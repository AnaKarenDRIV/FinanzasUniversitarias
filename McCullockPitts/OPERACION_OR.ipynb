{
  "nbformat": 4,
  "nbformat_minor": 0,
  "metadata": {
    "colab": {
      "provenance": [],
      "authorship_tag": "ABX9TyPcl2xWgPGQ9Ylkc1GF5U6Y",
      "include_colab_link": true
    },
    "kernelspec": {
      "name": "python3",
      "display_name": "Python 3"
    },
    "language_info": {
      "name": "python"
    }
  },
  "cells": [
    {
      "cell_type": "markdown",
      "metadata": {
        "id": "view-in-github",
        "colab_type": "text"
      },
      "source": [
        "<a href=\"https://colab.research.google.com/github/AnaKarenDRIV/FinanzasUniversitarias/blob/main/McCullockPitts/OPERACION_OR.ipynb\" target=\"_parent\"><img src=\"https://colab.research.google.com/assets/colab-badge.svg\" alt=\"Open In Colab\"/></a>"
      ]
    },
    {
      "cell_type": "markdown",
      "source": [
        "#OPERACION OR"
      ],
      "metadata": {
        "id": "GCCT3UdiBlKP"
      }
    },
    {
      "cell_type": "code",
      "execution_count": null,
      "metadata": {
        "id": "86lE2nbeBczE"
      },
      "outputs": [],
      "source": [
        "import numpy as np                                         # 1) Importamos la librería numpy para trabajar con arreglos numéricos.\n",
        "\n",
        "# Entradas (todas las combinaciones posibles de A y B)\n",
        "entradas = np.array([[0,0], [0,1], [1,0], [1,1]])          # 2) Creamos una matriz 4x2 con todas las combinaciones posibles de entradas binarias.\n",
        "\n",
        "# Pesos (para la operación OR)\n",
        "pesos = np.array([1, 1])                                   # 3) Asignamos un peso de 1 a cada entrada. Así, si cualquiera es 1, contribuye a activar la neurona.\n",
        "\n",
        "# Umbral de activación\n",
        "umbral = 1                                                 # 4) Definimos el umbral (threshold). Para la operación OR, basta con que la suma ponderada sea >= 1.\n",
        "\n",
        "# Salidas calculadas\n",
        "salidas = []                                               # 5) Creamos una lista vacía donde se almacenarán las salidas de la neurona.\n",
        "\n",
        "for x in entradas:                                         # 6) Recorremos cada vector de entrada (cada fila de la matriz 'entradas').\n",
        "    # Suma ponderada\n",
        "    suma = np.dot(x, pesos)                                # 7) Calculamos la suma ponderada: w1*x1 + w2*x2 usando el producto punto de numpy.\n",
        "\n",
        "    print(f\"Entrada: {x}, Suma ponderada: {suma}\")         # 8) Línea de depuración: muestra las entradas y la suma ponderada calculada.\n",
        "\n",
        "    # Función de activación (step)\n",
        "    salida = 1 if suma >= umbral else 0                    # 9) Aplicamos la función de activación escalón: si suma >= umbral, salida = 1; si no, salida = 0.\n",
        "\n",
        "    salidas.append(salida)                                 # 10) Añadimos el resultado (0 o 1) a la lista de salidas.\n",
        "\n",
        "# Mostrar resultados\n",
        "print(\"\\nEntradas:\\n\", entradas)                           # 11) Mostramos la tabla completa de entradas.\n",
        "print(\"Salidas OR:\", salidas)                              # 12) Mostramos las salidas obtenidas correspondientes a la operación lógica OR.\n"
      ]
    }
  ]
}