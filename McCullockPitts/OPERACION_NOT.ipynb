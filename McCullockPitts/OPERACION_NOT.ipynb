{
  "nbformat": 4,
  "nbformat_minor": 0,
  "metadata": {
    "colab": {
      "provenance": [],
      "authorship_tag": "ABX9TyPNjfBT9SKUBFtTwztFO4t5",
      "include_colab_link": true
    },
    "kernelspec": {
      "name": "python3",
      "display_name": "Python 3"
    },
    "language_info": {
      "name": "python"
    }
  },
  "cells": [
    {
      "cell_type": "markdown",
      "metadata": {
        "id": "view-in-github",
        "colab_type": "text"
      },
      "source": [
        "<a href=\"https://colab.research.google.com/github/AnaKarenDRIV/FinanzasUniversitarias/blob/main/McCullockPitts/OPERACION_NOT.ipynb\" target=\"_parent\"><img src=\"https://colab.research.google.com/assets/colab-badge.svg\" alt=\"Open In Colab\"/></a>"
      ]
    },
    {
      "cell_type": "markdown",
      "source": [
        "#OPERACION NOT"
      ],
      "metadata": {
        "id": "9L77vwq7Djkm"
      }
    },
    {
      "cell_type": "code",
      "execution_count": null,
      "metadata": {
        "id": "gJvTaDzYDXkw"
      },
      "outputs": [],
      "source": [
        "import numpy as np                                                      # 1) Importamos la librería numpy para manejar vectores y operaciones matemáticas.\n",
        "\n",
        "# Entradas (solo un valor, ya que NOT trabaja con una sola variable)\n",
        "entradas = np.array([[0], [1]])                                         # 2) Creamos un arreglo 2x1 con las dos posibles entradas: 0 y 1.\n",
        "\n",
        "# Peso (para la operación NOT)\n",
        "pesos = np.array([-1])                                                  # 3) Asignamos un peso negativo. Esto invierte el efecto de la entrada.\n",
        "                                                                        #    Si la entrada es 1, la suma será -1; si es 0, la suma será 0.\n",
        "\n",
        "# Umbral de activación\n",
        "umbral = 0                                                              # 4) Definimos el umbral en 0.\n",
        "                                                                        #    La neurona se activará si la suma ponderada es mayor o igual que 0.\n",
        "\n",
        "# Lista para almacenar las salidas\n",
        "salidas = []                                                            # 5) Inicializamos una lista vacía para guardar los resultados (0 o 1).\n",
        "\n",
        "for x in entradas:                                                      # 6) Recorremos cada valor de entrada (0 y 1).\n",
        "    # Suma ponderada\n",
        "    suma = np.dot(x, pesos)                                             # 7) Calculamos la suma ponderada: w * x (como solo hay una entrada, es un solo producto).\n",
        "\n",
        "    print(f\"Entrada: {x}, Suma ponderada: {suma}\")                      # 8) Línea de depuración: muestra la entrada actual y el valor de la suma ponderada.\n",
        "\n",
        "    # Función de activación (step)\n",
        "    salida = 1 if suma >= umbral else 0                                 # 9) Aplicamos la función escalón: si la suma >= umbral, salida = 1; si no, salida = 0.\n",
        "\n",
        "    salidas.append(salida)                                              # 10) Guardamos la salida calculada en la lista de salidas.\n",
        "\n",
        "# Mostrar resultados\n",
        "print(\"\\nEntradas:\\n\", entradas)                                        # 11) Mostramos todas las entradas utilizadas.\n",
        "print(\"Salidas NOT:\", salidas)                                          # 12) Mostramos las salidas resultantes de la operación lógica NOT.\n"
      ]
    }
  ]
}