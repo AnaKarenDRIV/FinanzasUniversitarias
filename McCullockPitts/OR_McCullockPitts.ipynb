# McCulloch-Pitts - Operación OR

import numpy as np

# Entradas (todas las combinaciones posibles de A y B)
entradas = np.array([[0,0], [0,1], [1,0], [1,1]])

# Pesos (para la operación OR)
pesos = np.array([1, 1])

# Umbral de activación
umbral = 1

# Salidas calculadas
salidas = []

for x in entradas:
    # Suma ponderada
    suma = np.dot(x, pesos)
    
    # Función de activación (step)
    salida = 1 if suma >= umbral else 0
    salidas.append(salida)

print("Entradas:\n", entradas)
print("Salidas OR:", salidas)
