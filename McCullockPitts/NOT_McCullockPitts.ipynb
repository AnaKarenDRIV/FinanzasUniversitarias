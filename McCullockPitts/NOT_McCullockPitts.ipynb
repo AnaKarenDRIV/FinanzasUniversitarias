# McCulloch-Pitts - Operación NOT

import numpy as np

# Entradas posibles (solo una variable)
entradas = np.array([[0], [1]])

# Peso negativo (para invertir el resultado)
pesos = np.array([-1])

# Umbral de activación
umbral = 0

# Salidas calculadas
salidas = []

for x in entradas:
    # Suma ponderada
    suma = np.dot(x, pesos)
    
    # Función de activación (step)
    salida = 1 if suma >= umbral else 0
    salidas.append(salida)

print("Entradas:\n", entradas)
print("Salidas NOT:", salidas)
