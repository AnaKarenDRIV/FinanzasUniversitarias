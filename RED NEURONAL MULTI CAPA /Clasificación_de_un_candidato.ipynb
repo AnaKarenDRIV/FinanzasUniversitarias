{
  "nbformat": 4,
  "nbformat_minor": 0,
  "metadata": {
    "colab": {
      "provenance": [],
      "gpuType": "T4",
      "authorship_tag": "ABX9TyP1tEkHOynumGE+WZKyY4da",
      "include_colab_link": true
    },
    "kernelspec": {
      "name": "python3",
      "display_name": "Python 3"
    },
    "language_info": {
      "name": "python"
    },
    "accelerator": "GPU"
  },
  "cells": [
    {
      "cell_type": "markdown",
      "metadata": {
        "id": "view-in-github",
        "colab_type": "text"
      },
      "source": [
        "<a href=\"https://colab.research.google.com/github/AnaKarenDRIV/FinanzasUniversitarias/blob/main/RED%20NEURONAL%20MULTI%20CAPA%20/Clasificaci%C3%B3n_de_un_candidato.ipynb\" target=\"_parent\"><img src=\"https://colab.research.google.com/assets/colab-badge.svg\" alt=\"Open In Colab\"/></a>"
      ]
    },
    {
      "cell_type": "code",
      "execution_count": 1,
      "metadata": {
        "id": "yDNmvKqzEYOa"
      },
      "outputs": [],
      "source": [
        "import numpy as np\n",
        "import pandas as pd\n",
        "\n",
        "# Generar dataset sintético con diferentes rangos por habilidad\n",
        "n_muestras = 5000\n",
        "# Habilidades técnicas: 70-100\n",
        "tec = np.random.randint(70, 101, (n_muestras, 6))\n",
        "# Habilidades matemáticas: 60-90\n",
        "mat = np.random.randint(60, 91, (n_muestras, 6))\n",
        "# Habilidades psicológicas: 50-85\n",
        "psi = np.random.randint(50, 86, (n_muestras, 6))\n",
        "# Nombres de columnas\n",
        "columnas = [\n",
        "    'python', 'sql', 'visualizacion_datos', 'excel', 'manejo_apis', 'nube',\n",
        "    'estadistica', 'probabilidad', 'algebra_lineal', 'calculo', 'optimizacion', 'modelado',\n",
        "    'trabajo_equipo', 'comunicacion', 'creatividad', 'adaptabilidad', 'liderazgo', 'resolucion_problemas'\n",
        "]\n",
        "# Crear DataFrame\n",
        "df = pd.DataFrame(np.concatenate([tec, mat, psi], axis=1), columns=columnas)"
      ]
    },
    {
      "cell_type": "code",
      "source": [
        "print (tec)"
      ],
      "metadata": {
        "colab": {
          "base_uri": "https://localhost:8080/"
        },
        "id": "KZHXnHiWHmyf",
        "outputId": "66f71bc0-1cb4-466f-a48d-e9654ce807e2"
      },
      "execution_count": 2,
      "outputs": [
        {
          "output_type": "stream",
          "name": "stdout",
          "text": [
            "[[ 97  88  77  70  77  89]\n",
            " [ 97  72 100  74  87  79]\n",
            " [ 84  85  78  74  74  83]\n",
            " ...\n",
            " [ 89  72  78  84  70  80]\n",
            " [ 90  94  89  82  99  76]\n",
            " [ 90  87  70  80  78  98]]\n"
          ]
        }
      ]
    },
    {
      "cell_type": "code",
      "source": [
        "print (mat)"
      ],
      "metadata": {
        "colab": {
          "base_uri": "https://localhost:8080/"
        },
        "id": "VSg7UvjIHwh-",
        "outputId": "7116c935-01c8-49aa-f75e-6b9b3b4e9769"
      },
      "execution_count": 3,
      "outputs": [
        {
          "output_type": "stream",
          "name": "stdout",
          "text": [
            "[[88 68 81 70 74 78]\n",
            " [87 61 66 77 89 77]\n",
            " [88 90 84 84 78 70]\n",
            " ...\n",
            " [77 65 70 71 81 67]\n",
            " [64 87 67 60 67 69]\n",
            " [61 70 82 69 80 68]]\n"
          ]
        }
      ]
    },
    {
      "cell_type": "code",
      "source": [
        "print (psi)"
      ],
      "metadata": {
        "colab": {
          "base_uri": "https://localhost:8080/"
        },
        "id": "MpnaHLZ2H4je",
        "outputId": "c6d6ba7e-1f75-44c7-dda0-3a266a73c432"
      },
      "execution_count": 4,
      "outputs": [
        {
          "output_type": "stream",
          "name": "stdout",
          "text": [
            "[[62 55 69 83 84 72]\n",
            " [61 55 50 76 84 74]\n",
            " [51 56 81 76 81 84]\n",
            " ...\n",
            " [77 68 52 85 50 67]\n",
            " [70 54 63 53 66 52]\n",
            " [55 55 57 79 58 60]]\n"
          ]
        }
      ]
    },
    {
      "cell_type": "code",
      "source": [
        "df"
      ],
      "metadata": {
        "colab": {
          "base_uri": "https://localhost:8080/",
          "height": 444
        },
        "id": "Ebb13rNnIuOX",
        "outputId": "e60a3abc-9872-4a72-d865-cf6607e6eac6"
      },
      "execution_count": 5,
      "outputs": [
        {
          "output_type": "execute_result",
          "data": {
            "text/plain": [
              "      python  sql  visualizacion_datos  excel  manejo_apis  nube  estadistica  \\\n",
              "0         97   88                   77     70           77    89           88   \n",
              "1         97   72                  100     74           87    79           87   \n",
              "2         84   85                   78     74           74    83           88   \n",
              "3         98   98                   74     89           84    72           89   \n",
              "4         77   96                   75     78           93    90           76   \n",
              "...      ...  ...                  ...    ...          ...   ...          ...   \n",
              "4995      92   83                   74     90           77    95           69   \n",
              "4996      97   71                   88     85           75    91           67   \n",
              "4997      89   72                   78     84           70    80           77   \n",
              "4998      90   94                   89     82           99    76           64   \n",
              "4999      90   87                   70     80           78    98           61   \n",
              "\n",
              "      probabilidad  algebra_lineal  calculo  optimizacion  modelado  \\\n",
              "0               68              81       70            74        78   \n",
              "1               61              66       77            89        77   \n",
              "2               90              84       84            78        70   \n",
              "3               79              66       65            84        78   \n",
              "4               81              84       90            79        69   \n",
              "...            ...             ...      ...           ...       ...   \n",
              "4995            69              83       74            67        80   \n",
              "4996            63              85       64            81        62   \n",
              "4997            65              70       71            81        67   \n",
              "4998            87              67       60            67        69   \n",
              "4999            70              82       69            80        68   \n",
              "\n",
              "      trabajo_equipo  comunicacion  creatividad  adaptabilidad  liderazgo  \\\n",
              "0                 62            55           69             83         84   \n",
              "1                 61            55           50             76         84   \n",
              "2                 51            56           81             76         81   \n",
              "3                 60            67           85             55         84   \n",
              "4                 84            58           68             55         51   \n",
              "...              ...           ...          ...            ...        ...   \n",
              "4995              70            85           61             59         77   \n",
              "4996              59            83           66             58         84   \n",
              "4997              77            68           52             85         50   \n",
              "4998              70            54           63             53         66   \n",
              "4999              55            55           57             79         58   \n",
              "\n",
              "      resolucion_problemas  \n",
              "0                       72  \n",
              "1                       74  \n",
              "2                       84  \n",
              "3                       85  \n",
              "4                       77  \n",
              "...                    ...  \n",
              "4995                    81  \n",
              "4996                    66  \n",
              "4997                    67  \n",
              "4998                    52  \n",
              "4999                    60  \n",
              "\n",
              "[5000 rows x 18 columns]"
            ],
            "text/html": [
              "\n",
              "  <div id=\"df-ca39fc60-a1ec-4ae9-b78c-0e55ff943a7c\" class=\"colab-df-container\">\n",
              "    <div>\n",
              "<style scoped>\n",
              "    .dataframe tbody tr th:only-of-type {\n",
              "        vertical-align: middle;\n",
              "    }\n",
              "\n",
              "    .dataframe tbody tr th {\n",
              "        vertical-align: top;\n",
              "    }\n",
              "\n",
              "    .dataframe thead th {\n",
              "        text-align: right;\n",
              "    }\n",
              "</style>\n",
              "<table border=\"1\" class=\"dataframe\">\n",
              "  <thead>\n",
              "    <tr style=\"text-align: right;\">\n",
              "      <th></th>\n",
              "      <th>python</th>\n",
              "      <th>sql</th>\n",
              "      <th>visualizacion_datos</th>\n",
              "      <th>excel</th>\n",
              "      <th>manejo_apis</th>\n",
              "      <th>nube</th>\n",
              "      <th>estadistica</th>\n",
              "      <th>probabilidad</th>\n",
              "      <th>algebra_lineal</th>\n",
              "      <th>calculo</th>\n",
              "      <th>optimizacion</th>\n",
              "      <th>modelado</th>\n",
              "      <th>trabajo_equipo</th>\n",
              "      <th>comunicacion</th>\n",
              "      <th>creatividad</th>\n",
              "      <th>adaptabilidad</th>\n",
              "      <th>liderazgo</th>\n",
              "      <th>resolucion_problemas</th>\n",
              "    </tr>\n",
              "  </thead>\n",
              "  <tbody>\n",
              "    <tr>\n",
              "      <th>0</th>\n",
              "      <td>97</td>\n",
              "      <td>88</td>\n",
              "      <td>77</td>\n",
              "      <td>70</td>\n",
              "      <td>77</td>\n",
              "      <td>89</td>\n",
              "      <td>88</td>\n",
              "      <td>68</td>\n",
              "      <td>81</td>\n",
              "      <td>70</td>\n",
              "      <td>74</td>\n",
              "      <td>78</td>\n",
              "      <td>62</td>\n",
              "      <td>55</td>\n",
              "      <td>69</td>\n",
              "      <td>83</td>\n",
              "      <td>84</td>\n",
              "      <td>72</td>\n",
              "    </tr>\n",
              "    <tr>\n",
              "      <th>1</th>\n",
              "      <td>97</td>\n",
              "      <td>72</td>\n",
              "      <td>100</td>\n",
              "      <td>74</td>\n",
              "      <td>87</td>\n",
              "      <td>79</td>\n",
              "      <td>87</td>\n",
              "      <td>61</td>\n",
              "      <td>66</td>\n",
              "      <td>77</td>\n",
              "      <td>89</td>\n",
              "      <td>77</td>\n",
              "      <td>61</td>\n",
              "      <td>55</td>\n",
              "      <td>50</td>\n",
              "      <td>76</td>\n",
              "      <td>84</td>\n",
              "      <td>74</td>\n",
              "    </tr>\n",
              "    <tr>\n",
              "      <th>2</th>\n",
              "      <td>84</td>\n",
              "      <td>85</td>\n",
              "      <td>78</td>\n",
              "      <td>74</td>\n",
              "      <td>74</td>\n",
              "      <td>83</td>\n",
              "      <td>88</td>\n",
              "      <td>90</td>\n",
              "      <td>84</td>\n",
              "      <td>84</td>\n",
              "      <td>78</td>\n",
              "      <td>70</td>\n",
              "      <td>51</td>\n",
              "      <td>56</td>\n",
              "      <td>81</td>\n",
              "      <td>76</td>\n",
              "      <td>81</td>\n",
              "      <td>84</td>\n",
              "    </tr>\n",
              "    <tr>\n",
              "      <th>3</th>\n",
              "      <td>98</td>\n",
              "      <td>98</td>\n",
              "      <td>74</td>\n",
              "      <td>89</td>\n",
              "      <td>84</td>\n",
              "      <td>72</td>\n",
              "      <td>89</td>\n",
              "      <td>79</td>\n",
              "      <td>66</td>\n",
              "      <td>65</td>\n",
              "      <td>84</td>\n",
              "      <td>78</td>\n",
              "      <td>60</td>\n",
              "      <td>67</td>\n",
              "      <td>85</td>\n",
              "      <td>55</td>\n",
              "      <td>84</td>\n",
              "      <td>85</td>\n",
              "    </tr>\n",
              "    <tr>\n",
              "      <th>4</th>\n",
              "      <td>77</td>\n",
              "      <td>96</td>\n",
              "      <td>75</td>\n",
              "      <td>78</td>\n",
              "      <td>93</td>\n",
              "      <td>90</td>\n",
              "      <td>76</td>\n",
              "      <td>81</td>\n",
              "      <td>84</td>\n",
              "      <td>90</td>\n",
              "      <td>79</td>\n",
              "      <td>69</td>\n",
              "      <td>84</td>\n",
              "      <td>58</td>\n",
              "      <td>68</td>\n",
              "      <td>55</td>\n",
              "      <td>51</td>\n",
              "      <td>77</td>\n",
              "    </tr>\n",
              "    <tr>\n",
              "      <th>...</th>\n",
              "      <td>...</td>\n",
              "      <td>...</td>\n",
              "      <td>...</td>\n",
              "      <td>...</td>\n",
              "      <td>...</td>\n",
              "      <td>...</td>\n",
              "      <td>...</td>\n",
              "      <td>...</td>\n",
              "      <td>...</td>\n",
              "      <td>...</td>\n",
              "      <td>...</td>\n",
              "      <td>...</td>\n",
              "      <td>...</td>\n",
              "      <td>...</td>\n",
              "      <td>...</td>\n",
              "      <td>...</td>\n",
              "      <td>...</td>\n",
              "      <td>...</td>\n",
              "    </tr>\n",
              "    <tr>\n",
              "      <th>4995</th>\n",
              "      <td>92</td>\n",
              "      <td>83</td>\n",
              "      <td>74</td>\n",
              "      <td>90</td>\n",
              "      <td>77</td>\n",
              "      <td>95</td>\n",
              "      <td>69</td>\n",
              "      <td>69</td>\n",
              "      <td>83</td>\n",
              "      <td>74</td>\n",
              "      <td>67</td>\n",
              "      <td>80</td>\n",
              "      <td>70</td>\n",
              "      <td>85</td>\n",
              "      <td>61</td>\n",
              "      <td>59</td>\n",
              "      <td>77</td>\n",
              "      <td>81</td>\n",
              "    </tr>\n",
              "    <tr>\n",
              "      <th>4996</th>\n",
              "      <td>97</td>\n",
              "      <td>71</td>\n",
              "      <td>88</td>\n",
              "      <td>85</td>\n",
              "      <td>75</td>\n",
              "      <td>91</td>\n",
              "      <td>67</td>\n",
              "      <td>63</td>\n",
              "      <td>85</td>\n",
              "      <td>64</td>\n",
              "      <td>81</td>\n",
              "      <td>62</td>\n",
              "      <td>59</td>\n",
              "      <td>83</td>\n",
              "      <td>66</td>\n",
              "      <td>58</td>\n",
              "      <td>84</td>\n",
              "      <td>66</td>\n",
              "    </tr>\n",
              "    <tr>\n",
              "      <th>4997</th>\n",
              "      <td>89</td>\n",
              "      <td>72</td>\n",
              "      <td>78</td>\n",
              "      <td>84</td>\n",
              "      <td>70</td>\n",
              "      <td>80</td>\n",
              "      <td>77</td>\n",
              "      <td>65</td>\n",
              "      <td>70</td>\n",
              "      <td>71</td>\n",
              "      <td>81</td>\n",
              "      <td>67</td>\n",
              "      <td>77</td>\n",
              "      <td>68</td>\n",
              "      <td>52</td>\n",
              "      <td>85</td>\n",
              "      <td>50</td>\n",
              "      <td>67</td>\n",
              "    </tr>\n",
              "    <tr>\n",
              "      <th>4998</th>\n",
              "      <td>90</td>\n",
              "      <td>94</td>\n",
              "      <td>89</td>\n",
              "      <td>82</td>\n",
              "      <td>99</td>\n",
              "      <td>76</td>\n",
              "      <td>64</td>\n",
              "      <td>87</td>\n",
              "      <td>67</td>\n",
              "      <td>60</td>\n",
              "      <td>67</td>\n",
              "      <td>69</td>\n",
              "      <td>70</td>\n",
              "      <td>54</td>\n",
              "      <td>63</td>\n",
              "      <td>53</td>\n",
              "      <td>66</td>\n",
              "      <td>52</td>\n",
              "    </tr>\n",
              "    <tr>\n",
              "      <th>4999</th>\n",
              "      <td>90</td>\n",
              "      <td>87</td>\n",
              "      <td>70</td>\n",
              "      <td>80</td>\n",
              "      <td>78</td>\n",
              "      <td>98</td>\n",
              "      <td>61</td>\n",
              "      <td>70</td>\n",
              "      <td>82</td>\n",
              "      <td>69</td>\n",
              "      <td>80</td>\n",
              "      <td>68</td>\n",
              "      <td>55</td>\n",
              "      <td>55</td>\n",
              "      <td>57</td>\n",
              "      <td>79</td>\n",
              "      <td>58</td>\n",
              "      <td>60</td>\n",
              "    </tr>\n",
              "  </tbody>\n",
              "</table>\n",
              "<p>5000 rows × 18 columns</p>\n",
              "</div>\n",
              "    <div class=\"colab-df-buttons\">\n",
              "\n",
              "  <div class=\"colab-df-container\">\n",
              "    <button class=\"colab-df-convert\" onclick=\"convertToInteractive('df-ca39fc60-a1ec-4ae9-b78c-0e55ff943a7c')\"\n",
              "            title=\"Convert this dataframe to an interactive table.\"\n",
              "            style=\"display:none;\">\n",
              "\n",
              "  <svg xmlns=\"http://www.w3.org/2000/svg\" height=\"24px\" viewBox=\"0 -960 960 960\">\n",
              "    <path d=\"M120-120v-720h720v720H120Zm60-500h600v-160H180v160Zm220 220h160v-160H400v160Zm0 220h160v-160H400v160ZM180-400h160v-160H180v160Zm440 0h160v-160H620v160ZM180-180h160v-160H180v160Zm440 0h160v-160H620v160Z\"/>\n",
              "  </svg>\n",
              "    </button>\n",
              "\n",
              "  <style>\n",
              "    .colab-df-container {\n",
              "      display:flex;\n",
              "      gap: 12px;\n",
              "    }\n",
              "\n",
              "    .colab-df-convert {\n",
              "      background-color: #E8F0FE;\n",
              "      border: none;\n",
              "      border-radius: 50%;\n",
              "      cursor: pointer;\n",
              "      display: none;\n",
              "      fill: #1967D2;\n",
              "      height: 32px;\n",
              "      padding: 0 0 0 0;\n",
              "      width: 32px;\n",
              "    }\n",
              "\n",
              "    .colab-df-convert:hover {\n",
              "      background-color: #E2EBFA;\n",
              "      box-shadow: 0px 1px 2px rgba(60, 64, 67, 0.3), 0px 1px 3px 1px rgba(60, 64, 67, 0.15);\n",
              "      fill: #174EA6;\n",
              "    }\n",
              "\n",
              "    .colab-df-buttons div {\n",
              "      margin-bottom: 4px;\n",
              "    }\n",
              "\n",
              "    [theme=dark] .colab-df-convert {\n",
              "      background-color: #3B4455;\n",
              "      fill: #D2E3FC;\n",
              "    }\n",
              "\n",
              "    [theme=dark] .colab-df-convert:hover {\n",
              "      background-color: #434B5C;\n",
              "      box-shadow: 0px 1px 3px 1px rgba(0, 0, 0, 0.15);\n",
              "      filter: drop-shadow(0px 1px 2px rgba(0, 0, 0, 0.3));\n",
              "      fill: #FFFFFF;\n",
              "    }\n",
              "  </style>\n",
              "\n",
              "    <script>\n",
              "      const buttonEl =\n",
              "        document.querySelector('#df-ca39fc60-a1ec-4ae9-b78c-0e55ff943a7c button.colab-df-convert');\n",
              "      buttonEl.style.display =\n",
              "        google.colab.kernel.accessAllowed ? 'block' : 'none';\n",
              "\n",
              "      async function convertToInteractive(key) {\n",
              "        const element = document.querySelector('#df-ca39fc60-a1ec-4ae9-b78c-0e55ff943a7c');\n",
              "        const dataTable =\n",
              "          await google.colab.kernel.invokeFunction('convertToInteractive',\n",
              "                                                    [key], {});\n",
              "        if (!dataTable) return;\n",
              "\n",
              "        const docLinkHtml = 'Like what you see? Visit the ' +\n",
              "          '<a target=\"_blank\" href=https://colab.research.google.com/notebooks/data_table.ipynb>data table notebook</a>'\n",
              "          + ' to learn more about interactive tables.';\n",
              "        element.innerHTML = '';\n",
              "        dataTable['output_type'] = 'display_data';\n",
              "        await google.colab.output.renderOutput(dataTable, element);\n",
              "        const docLink = document.createElement('div');\n",
              "        docLink.innerHTML = docLinkHtml;\n",
              "        element.appendChild(docLink);\n",
              "      }\n",
              "    </script>\n",
              "  </div>\n",
              "\n",
              "\n",
              "    <div id=\"df-a372945c-8c1c-465a-a3be-a6dbebe70bcc\">\n",
              "      <button class=\"colab-df-quickchart\" onclick=\"quickchart('df-a372945c-8c1c-465a-a3be-a6dbebe70bcc')\"\n",
              "                title=\"Suggest charts\"\n",
              "                style=\"display:none;\">\n",
              "\n",
              "<svg xmlns=\"http://www.w3.org/2000/svg\" height=\"24px\"viewBox=\"0 0 24 24\"\n",
              "     width=\"24px\">\n",
              "    <g>\n",
              "        <path d=\"M19 3H5c-1.1 0-2 .9-2 2v14c0 1.1.9 2 2 2h14c1.1 0 2-.9 2-2V5c0-1.1-.9-2-2-2zM9 17H7v-7h2v7zm4 0h-2V7h2v10zm4 0h-2v-4h2v4z\"/>\n",
              "    </g>\n",
              "</svg>\n",
              "      </button>\n",
              "\n",
              "<style>\n",
              "  .colab-df-quickchart {\n",
              "      --bg-color: #E8F0FE;\n",
              "      --fill-color: #1967D2;\n",
              "      --hover-bg-color: #E2EBFA;\n",
              "      --hover-fill-color: #174EA6;\n",
              "      --disabled-fill-color: #AAA;\n",
              "      --disabled-bg-color: #DDD;\n",
              "  }\n",
              "\n",
              "  [theme=dark] .colab-df-quickchart {\n",
              "      --bg-color: #3B4455;\n",
              "      --fill-color: #D2E3FC;\n",
              "      --hover-bg-color: #434B5C;\n",
              "      --hover-fill-color: #FFFFFF;\n",
              "      --disabled-bg-color: #3B4455;\n",
              "      --disabled-fill-color: #666;\n",
              "  }\n",
              "\n",
              "  .colab-df-quickchart {\n",
              "    background-color: var(--bg-color);\n",
              "    border: none;\n",
              "    border-radius: 50%;\n",
              "    cursor: pointer;\n",
              "    display: none;\n",
              "    fill: var(--fill-color);\n",
              "    height: 32px;\n",
              "    padding: 0;\n",
              "    width: 32px;\n",
              "  }\n",
              "\n",
              "  .colab-df-quickchart:hover {\n",
              "    background-color: var(--hover-bg-color);\n",
              "    box-shadow: 0 1px 2px rgba(60, 64, 67, 0.3), 0 1px 3px 1px rgba(60, 64, 67, 0.15);\n",
              "    fill: var(--button-hover-fill-color);\n",
              "  }\n",
              "\n",
              "  .colab-df-quickchart-complete:disabled,\n",
              "  .colab-df-quickchart-complete:disabled:hover {\n",
              "    background-color: var(--disabled-bg-color);\n",
              "    fill: var(--disabled-fill-color);\n",
              "    box-shadow: none;\n",
              "  }\n",
              "\n",
              "  .colab-df-spinner {\n",
              "    border: 2px solid var(--fill-color);\n",
              "    border-color: transparent;\n",
              "    border-bottom-color: var(--fill-color);\n",
              "    animation:\n",
              "      spin 1s steps(1) infinite;\n",
              "  }\n",
              "\n",
              "  @keyframes spin {\n",
              "    0% {\n",
              "      border-color: transparent;\n",
              "      border-bottom-color: var(--fill-color);\n",
              "      border-left-color: var(--fill-color);\n",
              "    }\n",
              "    20% {\n",
              "      border-color: transparent;\n",
              "      border-left-color: var(--fill-color);\n",
              "      border-top-color: var(--fill-color);\n",
              "    }\n",
              "    30% {\n",
              "      border-color: transparent;\n",
              "      border-left-color: var(--fill-color);\n",
              "      border-top-color: var(--fill-color);\n",
              "      border-right-color: var(--fill-color);\n",
              "    }\n",
              "    40% {\n",
              "      border-color: transparent;\n",
              "      border-right-color: var(--fill-color);\n",
              "      border-top-color: var(--fill-color);\n",
              "    }\n",
              "    60% {\n",
              "      border-color: transparent;\n",
              "      border-right-color: var(--fill-color);\n",
              "    }\n",
              "    80% {\n",
              "      border-color: transparent;\n",
              "      border-right-color: var(--fill-color);\n",
              "      border-bottom-color: var(--fill-color);\n",
              "    }\n",
              "    90% {\n",
              "      border-color: transparent;\n",
              "      border-bottom-color: var(--fill-color);\n",
              "    }\n",
              "  }\n",
              "</style>\n",
              "\n",
              "      <script>\n",
              "        async function quickchart(key) {\n",
              "          const quickchartButtonEl =\n",
              "            document.querySelector('#' + key + ' button');\n",
              "          quickchartButtonEl.disabled = true;  // To prevent multiple clicks.\n",
              "          quickchartButtonEl.classList.add('colab-df-spinner');\n",
              "          try {\n",
              "            const charts = await google.colab.kernel.invokeFunction(\n",
              "                'suggestCharts', [key], {});\n",
              "          } catch (error) {\n",
              "            console.error('Error during call to suggestCharts:', error);\n",
              "          }\n",
              "          quickchartButtonEl.classList.remove('colab-df-spinner');\n",
              "          quickchartButtonEl.classList.add('colab-df-quickchart-complete');\n",
              "        }\n",
              "        (() => {\n",
              "          let quickchartButtonEl =\n",
              "            document.querySelector('#df-a372945c-8c1c-465a-a3be-a6dbebe70bcc button');\n",
              "          quickchartButtonEl.style.display =\n",
              "            google.colab.kernel.accessAllowed ? 'block' : 'none';\n",
              "        })();\n",
              "      </script>\n",
              "    </div>\n",
              "\n",
              "  <div id=\"id_1c2b8da2-284d-4862-b09d-28a08898943e\">\n",
              "    <style>\n",
              "      .colab-df-generate {\n",
              "        background-color: #E8F0FE;\n",
              "        border: none;\n",
              "        border-radius: 50%;\n",
              "        cursor: pointer;\n",
              "        display: none;\n",
              "        fill: #1967D2;\n",
              "        height: 32px;\n",
              "        padding: 0 0 0 0;\n",
              "        width: 32px;\n",
              "      }\n",
              "\n",
              "      .colab-df-generate:hover {\n",
              "        background-color: #E2EBFA;\n",
              "        box-shadow: 0px 1px 2px rgba(60, 64, 67, 0.3), 0px 1px 3px 1px rgba(60, 64, 67, 0.15);\n",
              "        fill: #174EA6;\n",
              "      }\n",
              "\n",
              "      [theme=dark] .colab-df-generate {\n",
              "        background-color: #3B4455;\n",
              "        fill: #D2E3FC;\n",
              "      }\n",
              "\n",
              "      [theme=dark] .colab-df-generate:hover {\n",
              "        background-color: #434B5C;\n",
              "        box-shadow: 0px 1px 3px 1px rgba(0, 0, 0, 0.15);\n",
              "        filter: drop-shadow(0px 1px 2px rgba(0, 0, 0, 0.3));\n",
              "        fill: #FFFFFF;\n",
              "      }\n",
              "    </style>\n",
              "    <button class=\"colab-df-generate\" onclick=\"generateWithVariable('df')\"\n",
              "            title=\"Generate code using this dataframe.\"\n",
              "            style=\"display:none;\">\n",
              "\n",
              "  <svg xmlns=\"http://www.w3.org/2000/svg\" height=\"24px\"viewBox=\"0 0 24 24\"\n",
              "       width=\"24px\">\n",
              "    <path d=\"M7,19H8.4L18.45,9,17,7.55,7,17.6ZM5,21V16.75L18.45,3.32a2,2,0,0,1,2.83,0l1.4,1.43a1.91,1.91,0,0,1,.58,1.4,1.91,1.91,0,0,1-.58,1.4L9.25,21ZM18.45,9,17,7.55Zm-12,3A5.31,5.31,0,0,0,4.9,8.1,5.31,5.31,0,0,0,1,6.5,5.31,5.31,0,0,0,4.9,4.9,5.31,5.31,0,0,0,6.5,1,5.31,5.31,0,0,0,8.1,4.9,5.31,5.31,0,0,0,12,6.5,5.46,5.46,0,0,0,6.5,12Z\"/>\n",
              "  </svg>\n",
              "    </button>\n",
              "    <script>\n",
              "      (() => {\n",
              "      const buttonEl =\n",
              "        document.querySelector('#id_1c2b8da2-284d-4862-b09d-28a08898943e button.colab-df-generate');\n",
              "      buttonEl.style.display =\n",
              "        google.colab.kernel.accessAllowed ? 'block' : 'none';\n",
              "\n",
              "      buttonEl.onclick = () => {\n",
              "        google.colab.notebook.generateWithVariable('df');\n",
              "      }\n",
              "      })();\n",
              "    </script>\n",
              "  </div>\n",
              "\n",
              "    </div>\n",
              "  </div>\n"
            ],
            "application/vnd.google.colaboratory.intrinsic+json": {
              "type": "dataframe",
              "variable_name": "df",
              "summary": "{\n  \"name\": \"df\",\n  \"rows\": 5000,\n  \"fields\": [\n    {\n      \"column\": \"python\",\n      \"properties\": {\n        \"dtype\": \"number\",\n        \"std\": 8,\n        \"min\": 70,\n        \"max\": 100,\n        \"num_unique_values\": 31,\n        \"samples\": [\n          96,\n          91,\n          94\n        ],\n        \"semantic_type\": \"\",\n        \"description\": \"\"\n      }\n    },\n    {\n      \"column\": \"sql\",\n      \"properties\": {\n        \"dtype\": \"number\",\n        \"std\": 8,\n        \"min\": 70,\n        \"max\": 100,\n        \"num_unique_values\": 31,\n        \"samples\": [\n          99,\n          89,\n          82\n        ],\n        \"semantic_type\": \"\",\n        \"description\": \"\"\n      }\n    },\n    {\n      \"column\": \"visualizacion_datos\",\n      \"properties\": {\n        \"dtype\": \"number\",\n        \"std\": 8,\n        \"min\": 70,\n        \"max\": 100,\n        \"num_unique_values\": 31,\n        \"samples\": [\n          92,\n          72,\n          83\n        ],\n        \"semantic_type\": \"\",\n        \"description\": \"\"\n      }\n    },\n    {\n      \"column\": \"excel\",\n      \"properties\": {\n        \"dtype\": \"number\",\n        \"std\": 8,\n        \"min\": 70,\n        \"max\": 100,\n        \"num_unique_values\": 31,\n        \"samples\": [\n          99,\n          92,\n          100\n        ],\n        \"semantic_type\": \"\",\n        \"description\": \"\"\n      }\n    },\n    {\n      \"column\": \"manejo_apis\",\n      \"properties\": {\n        \"dtype\": \"number\",\n        \"std\": 8,\n        \"min\": 70,\n        \"max\": 100,\n        \"num_unique_values\": 31,\n        \"samples\": [\n          82,\n          92,\n          83\n        ],\n        \"semantic_type\": \"\",\n        \"description\": \"\"\n      }\n    },\n    {\n      \"column\": \"nube\",\n      \"properties\": {\n        \"dtype\": \"number\",\n        \"std\": 8,\n        \"min\": 70,\n        \"max\": 100,\n        \"num_unique_values\": 31,\n        \"samples\": [\n          100,\n          78,\n          85\n        ],\n        \"semantic_type\": \"\",\n        \"description\": \"\"\n      }\n    },\n    {\n      \"column\": \"estadistica\",\n      \"properties\": {\n        \"dtype\": \"number\",\n        \"std\": 9,\n        \"min\": 60,\n        \"max\": 90,\n        \"num_unique_values\": 31,\n        \"samples\": [\n          60,\n          71,\n          80\n        ],\n        \"semantic_type\": \"\",\n        \"description\": \"\"\n      }\n    },\n    {\n      \"column\": \"probabilidad\",\n      \"properties\": {\n        \"dtype\": \"number\",\n        \"std\": 8,\n        \"min\": 60,\n        \"max\": 90,\n        \"num_unique_values\": 31,\n        \"samples\": [\n          70,\n          85,\n          76\n        ],\n        \"semantic_type\": \"\",\n        \"description\": \"\"\n      }\n    },\n    {\n      \"column\": \"algebra_lineal\",\n      \"properties\": {\n        \"dtype\": \"number\",\n        \"std\": 8,\n        \"min\": 60,\n        \"max\": 90,\n        \"num_unique_values\": 31,\n        \"samples\": [\n          83,\n          65,\n          87\n        ],\n        \"semantic_type\": \"\",\n        \"description\": \"\"\n      }\n    },\n    {\n      \"column\": \"calculo\",\n      \"properties\": {\n        \"dtype\": \"number\",\n        \"std\": 9,\n        \"min\": 60,\n        \"max\": 90,\n        \"num_unique_values\": 31,\n        \"samples\": [\n          88,\n          83,\n          81\n        ],\n        \"semantic_type\": \"\",\n        \"description\": \"\"\n      }\n    },\n    {\n      \"column\": \"optimizacion\",\n      \"properties\": {\n        \"dtype\": \"number\",\n        \"std\": 8,\n        \"min\": 60,\n        \"max\": 90,\n        \"num_unique_values\": 31,\n        \"samples\": [\n          80,\n          64,\n          81\n        ],\n        \"semantic_type\": \"\",\n        \"description\": \"\"\n      }\n    },\n    {\n      \"column\": \"modelado\",\n      \"properties\": {\n        \"dtype\": \"number\",\n        \"std\": 8,\n        \"min\": 60,\n        \"max\": 90,\n        \"num_unique_values\": 31,\n        \"samples\": [\n          63,\n          66,\n          86\n        ],\n        \"semantic_type\": \"\",\n        \"description\": \"\"\n      }\n    },\n    {\n      \"column\": \"trabajo_equipo\",\n      \"properties\": {\n        \"dtype\": \"number\",\n        \"std\": 10,\n        \"min\": 50,\n        \"max\": 85,\n        \"num_unique_values\": 36,\n        \"samples\": [\n          65,\n          66,\n          63\n        ],\n        \"semantic_type\": \"\",\n        \"description\": \"\"\n      }\n    },\n    {\n      \"column\": \"comunicacion\",\n      \"properties\": {\n        \"dtype\": \"number\",\n        \"std\": 10,\n        \"min\": 50,\n        \"max\": 85,\n        \"num_unique_values\": 36,\n        \"samples\": [\n          57,\n          81,\n          71\n        ],\n        \"semantic_type\": \"\",\n        \"description\": \"\"\n      }\n    },\n    {\n      \"column\": \"creatividad\",\n      \"properties\": {\n        \"dtype\": \"number\",\n        \"std\": 10,\n        \"min\": 50,\n        \"max\": 85,\n        \"num_unique_values\": 36,\n        \"samples\": [\n          59,\n          75,\n          66\n        ],\n        \"semantic_type\": \"\",\n        \"description\": \"\"\n      }\n    },\n    {\n      \"column\": \"adaptabilidad\",\n      \"properties\": {\n        \"dtype\": \"number\",\n        \"std\": 10,\n        \"min\": 50,\n        \"max\": 85,\n        \"num_unique_values\": 36,\n        \"samples\": [\n          81,\n          53,\n          79\n        ],\n        \"semantic_type\": \"\",\n        \"description\": \"\"\n      }\n    },\n    {\n      \"column\": \"liderazgo\",\n      \"properties\": {\n        \"dtype\": \"number\",\n        \"std\": 10,\n        \"min\": 50,\n        \"max\": 85,\n        \"num_unique_values\": 36,\n        \"samples\": [\n          54,\n          59,\n          68\n        ],\n        \"semantic_type\": \"\",\n        \"description\": \"\"\n      }\n    },\n    {\n      \"column\": \"resolucion_problemas\",\n      \"properties\": {\n        \"dtype\": \"number\",\n        \"std\": 10,\n        \"min\": 50,\n        \"max\": 85,\n        \"num_unique_values\": 36,\n        \"samples\": [\n          70,\n          58,\n          54\n        ],\n        \"semantic_type\": \"\",\n        \"description\": \"\"\n      }\n    }\n  ]\n}"
            }
          },
          "metadata": {},
          "execution_count": 5
        }
      ]
    },
    {
      "cell_type": "markdown",
      "source": [
        "AXIIS = 0 ES COLUMNA\n",
        "\n",
        "AXIS = 1 ES FILA"
      ],
      "metadata": {
        "id": "fTKDuduCKA7-"
      }
    },
    {
      "cell_type": "code",
      "source": [
        "# Calcular promedio por grupo y promedio total\n",
        "prom_tecnologicas = df[['python', 'sql', 'visualizacion_datos', 'excel', 'manejo_apis', 'nube']].mean(axis=1)\n",
        "prom_matematicas  = df[['estadistica', 'probabilidad', 'algebra_lineal', 'calculo', 'optimizacion', 'modelado']].mean(axis=1)\n",
        "prom_psicologicas = df[['trabajo_equipo', 'comunicacion', 'creatividad', 'adaptabilidad', 'liderazgo', 'resolucion_problemas']].mean(axis=1)\n",
        "# Promedio total = promedio de los 3 promedios\n",
        "prom_total = (prom_tecnologicas + prom_matematicas + prom_psicologicas) / 3\n",
        "# Etiqueta: 1 = apto si promedio total > 80\n",
        "y = (prom_total > 75).astype(int)\n",
        "# one-hot encoding\n",
        "y = pd.get_dummies(y).values"
      ],
      "metadata": {
        "id": "rgUVL3CsIHZe"
      },
      "execution_count": 6,
      "outputs": []
    },
    {
      "cell_type": "code",
      "source": [
        "print(prom_tecnologicas)"
      ],
      "metadata": {
        "colab": {
          "base_uri": "https://localhost:8080/"
        },
        "id": "_I1DQto1Kbpu",
        "outputId": "14f18c6d-0aea-4677-ea0d-c191b8543783"
      },
      "execution_count": 9,
      "outputs": [
        {
          "output_type": "stream",
          "name": "stdout",
          "text": [
            "0       83.000000\n",
            "1       84.833333\n",
            "2       79.666667\n",
            "3       85.833333\n",
            "4       84.833333\n",
            "          ...    \n",
            "4995    85.166667\n",
            "4996    84.500000\n",
            "4997    78.833333\n",
            "4998    88.333333\n",
            "4999    83.833333\n",
            "Length: 5000, dtype: float64\n"
          ]
        }
      ]
    },
    {
      "cell_type": "code",
      "source": [
        "print(prom_matematicas)"
      ],
      "metadata": {
        "colab": {
          "base_uri": "https://localhost:8080/"
        },
        "id": "8q4Ut48-KYD2",
        "outputId": "51a1e0a7-fa7d-4115-eb2b-e009359b0c30"
      },
      "execution_count": 8,
      "outputs": [
        {
          "output_type": "stream",
          "name": "stdout",
          "text": [
            "0       76.500000\n",
            "1       76.166667\n",
            "2       82.333333\n",
            "3       76.833333\n",
            "4       79.833333\n",
            "          ...    \n",
            "4995    73.666667\n",
            "4996    70.333333\n",
            "4997    71.833333\n",
            "4998    69.000000\n",
            "4999    71.666667\n",
            "Length: 5000, dtype: float64\n"
          ]
        }
      ]
    },
    {
      "cell_type": "code",
      "source": [
        "print(prom_psicologicas)"
      ],
      "metadata": {
        "colab": {
          "base_uri": "https://localhost:8080/"
        },
        "id": "5U5_-WyGKhfR",
        "outputId": "72beb795-f38d-490a-b78a-cfc6d34a4dd9"
      },
      "execution_count": 10,
      "outputs": [
        {
          "output_type": "stream",
          "name": "stdout",
          "text": [
            "0       70.833333\n",
            "1       66.666667\n",
            "2       71.500000\n",
            "3       72.666667\n",
            "4       65.500000\n",
            "          ...    \n",
            "4995    72.166667\n",
            "4996    69.333333\n",
            "4997    66.500000\n",
            "4998    59.666667\n",
            "4999    60.666667\n",
            "Length: 5000, dtype: float64\n"
          ]
        }
      ]
    },
    {
      "cell_type": "markdown",
      "source": [
        "apto // no apto      ------ dependiendo se donde sea es el resultado"
      ],
      "metadata": {
        "id": "5-x8HuhSKoR1"
      }
    },
    {
      "cell_type": "code",
      "source": [
        "print(y)"
      ],
      "metadata": {
        "colab": {
          "base_uri": "https://localhost:8080/"
        },
        "id": "_FVgbMUpKQvO",
        "outputId": "d621adb6-570a-447b-f454-1f600d0f5618"
      },
      "execution_count": 7,
      "outputs": [
        {
          "output_type": "stream",
          "name": "stdout",
          "text": [
            "[[False  True]\n",
            " [False  True]\n",
            " [False  True]\n",
            " ...\n",
            " [ True False]\n",
            " [ True False]\n",
            " [ True False]]\n"
          ]
        }
      ]
    },
    {
      "cell_type": "markdown",
      "source": [
        "Obtenemos los conjuntos de entrenamiento y de test"
      ],
      "metadata": {
        "id": "JAveUEyMIUCu"
      }
    },
    {
      "cell_type": "code",
      "source": [
        "from sklearn.model_selection import train_test_split\n",
        "X_train, X_test, y_train, y_test = train_test_split(\n",
        "    df, y, test_size=0.2, random_state=42\n",
        ")\n",
        "\n",
        "# Escalamiento\n",
        "from sklearn.preprocessing import StandardScaler\n",
        "scaler = StandardScaler()\n",
        "X_train = scaler.fit_transform(X_train)\n",
        "X_test = scaler.transform(X_test)"
      ],
      "metadata": {
        "id": "cuYw9kyIIO0D"
      },
      "execution_count": 11,
      "outputs": []
    },
    {
      "cell_type": "markdown",
      "source": [
        "test 20% ---- tcoin 80%\n",
        "\n",
        "> semilla\n",
        "\n"
      ],
      "metadata": {
        "id": "q3As0CNfLkZP"
      }
    },
    {
      "cell_type": "code",
      "source": [
        "print(X_test)"
      ],
      "metadata": {
        "colab": {
          "base_uri": "https://localhost:8080/"
        },
        "id": "L57Kt29xK_jO",
        "outputId": "1843c185-d7b1-4d71-8fe6-375e85fa013b"
      },
      "execution_count": 13,
      "outputs": [
        {
          "output_type": "stream",
          "name": "stdout",
          "text": [
            "[[ 1.32656391  0.20832116 -1.1056011  ... -0.43563464  1.40088094\n",
            "  -1.2074116 ]\n",
            " [ 1.10061677  0.32050272  1.46063417 ... -0.04671855  0.34720889\n",
            "  -0.15607561]\n",
            " [-0.14209251 -1.58658383  0.67960605 ...  0.43942657  0.34720889\n",
            "   0.03507639]\n",
            " ...\n",
            " [-1.49777536  1.44231834 -0.43614842 ... -1.69961193 -1.66434685\n",
            "  -0.06049961]\n",
            " [-0.48101322 -1.3622207  -0.88245021 ...  1.12002973  1.01772747\n",
            "   1.08641239]\n",
            " [-0.9329075  -0.46476821  0.23330426 ... -0.53286366 -0.6106748\n",
            "  -0.44280361]]\n"
          ]
        }
      ]
    },
    {
      "cell_type": "code",
      "source": [
        "print(X_train)"
      ],
      "metadata": {
        "colab": {
          "base_uri": "https://localhost:8080/"
        },
        "id": "WQBnZY7SK6i2",
        "outputId": "8a67ed08-a24a-4ea4-e9c2-a286ac3417ac"
      },
      "execution_count": 14,
      "outputs": [
        {
          "output_type": "stream",
          "name": "stdout",
          "text": [
            "[[-1.15885464  1.21795521 -0.32457297 ...  0.73111364  1.01772747\n",
            "   0.99083639]\n",
            " [ 1.55251105  0.32050272  1.23748328 ...  1.41171679 -0.03594459\n",
            "   0.70410839]\n",
            " [ 0.64872249 -0.57694977  1.12590783 ...  1.60617484  0.63457399\n",
            "   1.46871639]\n",
            " ...\n",
            " [-1.61074893 -0.57694977  1.46063417 ...  0.1477395  -1.28119337\n",
            "  -0.53837961]\n",
            " [ 1.55251105 -0.35258665  0.23330426 ... -0.92177975 -1.28119337\n",
            "  -0.06049961]\n",
            " [ 0.08385463  1.10577365 -0.88245021 ...  1.31448777  0.73036236\n",
            "   0.32180439]]\n"
          ]
        }
      ]
    },
    {
      "cell_type": "markdown",
      "source": [
        "RED NEURONAL"
      ],
      "metadata": {
        "id": "U7uwFcbGJmp3"
      }
    },
    {
      "cell_type": "code",
      "source": [
        "##18 columnas 500o filads                                    (X_train.shape[1],) sirve para poener todas las filas en caso de que quieras agregar otra\n",
        "## 3 capas                                                        https://www.tensorflow.org/api_docs/python/tf/keras/layers/Dense      (link de las funciones)\n",
        "## 64 neuronas\n",
        "## 32 neuronas\n",
        "## 16 neuronas\n"
      ],
      "metadata": {
        "id": "4P814xJuOCkn"
      },
      "execution_count": null,
      "outputs": []
    },
    {
      "cell_type": "code",
      "source": [
        "from tensorflow.keras.models import Sequential\n",
        "from tensorflow.keras.layers import Dense\n",
        "from tensorflow.keras.optimizers import Adam\n",
        "modelo = Sequential([\n",
        "    Dense(64, input_shape=(X_train.shape[1],), activation='relu'),\n",
        "    Dense(32, activation='relu'),\n",
        "    Dense(16, activation='relu'),\n",
        "    Dense(2, activation='softmax')\n",
        "])\n",
        "\n",
        "adam = Adam(learning_rate=0.001)\n",
        "modelo.compile(optimizer=adam, loss='categorical_crossentropy', metrics=['accuracy'])"
      ],
      "metadata": {
        "colab": {
          "base_uri": "https://localhost:8080/"
        },
        "id": "jzr9K2HFJlIg",
        "outputId": "a3d96163-1c3b-47a2-afba-5ccf26d890b6"
      },
      "execution_count": 15,
      "outputs": [
        {
          "output_type": "stream",
          "name": "stderr",
          "text": [
            "/usr/local/lib/python3.12/dist-packages/keras/src/layers/core/dense.py:93: UserWarning: Do not pass an `input_shape`/`input_dim` argument to a layer. When using Sequential models, prefer using an `Input(shape)` object as the first layer in the model instead.\n",
            "  super().__init__(activity_regularizer=activity_regularizer, **kwargs)\n"
          ]
        }
      ]
    },
    {
      "cell_type": "code",
      "source": [
        "### alternacion de datos por 500 batch_size=8\n",
        "## no entrenar todos los datos completos o es sobre ajuste\n",
        "## loss: 4.4955e-08 - val_accuracy: 0.9790 - val_loss: 0.1513                 tienen que star a la par    si una tiende hacia riba y la otra hacia abjo esta haciendo sobre ajuste o ajuste\n",
        "## batch_size=8     lo divide ente 20, 8 etc"
      ],
      "metadata": {
        "id": "2XVQrXGKO0R2"
      },
      "execution_count": null,
      "outputs": []
    },
    {
      "cell_type": "code",
      "source": [
        "history_prueba = modelo.fit(\n",
        "    X_train, y_train,\n",
        "    epochs=50,\n",
        "    batch_size=20,\n",
        "    validation_data=(X_test, y_test),\n",
        "    verbose=1\n",
        ")"
      ],
      "metadata": {
        "colab": {
          "base_uri": "https://localhost:8080/"
        },
        "id": "Qrqszx98SLHT",
        "outputId": "128fa7c1-a648-4ade-9a0b-a34492fcd57f"
      },
      "execution_count": 17,
      "outputs": [
        {
          "output_type": "stream",
          "name": "stdout",
          "text": [
            "Epoch 1/50\n",
            "\u001b[1m200/200\u001b[0m \u001b[32m━━━━━━━━━━━━━━━━━━━━\u001b[0m\u001b[37m\u001b[0m \u001b[1m2s\u001b[0m 5ms/step - accuracy: 1.0000 - loss: 2.6106e-08 - val_accuracy: 0.9790 - val_loss: 0.1561\n",
            "Epoch 2/50\n",
            "\u001b[1m200/200\u001b[0m \u001b[32m━━━━━━━━━━━━━━━━━━━━\u001b[0m\u001b[37m\u001b[0m \u001b[1m1s\u001b[0m 3ms/step - accuracy: 1.0000 - loss: 2.8145e-08 - val_accuracy: 0.9790 - val_loss: 0.1572\n",
            "Epoch 3/50\n",
            "\u001b[1m200/200\u001b[0m \u001b[32m━━━━━━━━━━━━━━━━━━━━\u001b[0m\u001b[37m\u001b[0m \u001b[1m1s\u001b[0m 3ms/step - accuracy: 1.0000 - loss: 2.1981e-08 - val_accuracy: 0.9790 - val_loss: 0.1584\n",
            "Epoch 4/50\n",
            "\u001b[1m200/200\u001b[0m \u001b[32m━━━━━━━━━━━━━━━━━━━━\u001b[0m\u001b[37m\u001b[0m \u001b[1m1s\u001b[0m 3ms/step - accuracy: 1.0000 - loss: 1.9475e-08 - val_accuracy: 0.9790 - val_loss: 0.1593\n",
            "Epoch 5/50\n",
            "\u001b[1m200/200\u001b[0m \u001b[32m━━━━━━━━━━━━━━━━━━━━\u001b[0m\u001b[37m\u001b[0m \u001b[1m1s\u001b[0m 3ms/step - accuracy: 1.0000 - loss: 1.5859e-08 - val_accuracy: 0.9790 - val_loss: 0.1598\n",
            "Epoch 6/50\n",
            "\u001b[1m200/200\u001b[0m \u001b[32m━━━━━━━━━━━━━━━━━━━━\u001b[0m\u001b[37m\u001b[0m \u001b[1m1s\u001b[0m 3ms/step - accuracy: 1.0000 - loss: 1.3511e-08 - val_accuracy: 0.9790 - val_loss: 0.1613\n",
            "Epoch 7/50\n",
            "\u001b[1m200/200\u001b[0m \u001b[32m━━━━━━━━━━━━━━━━━━━━\u001b[0m\u001b[37m\u001b[0m \u001b[1m1s\u001b[0m 3ms/step - accuracy: 1.0000 - loss: 1.2948e-08 - val_accuracy: 0.9790 - val_loss: 0.1618\n",
            "Epoch 8/50\n",
            "\u001b[1m200/200\u001b[0m \u001b[32m━━━━━━━━━━━━━━━━━━━━\u001b[0m\u001b[37m\u001b[0m \u001b[1m1s\u001b[0m 3ms/step - accuracy: 1.0000 - loss: 1.3810e-08 - val_accuracy: 0.9790 - val_loss: 0.1629\n",
            "Epoch 9/50\n",
            "\u001b[1m200/200\u001b[0m \u001b[32m━━━━━━━━━━━━━━━━━━━━\u001b[0m\u001b[37m\u001b[0m \u001b[1m1s\u001b[0m 3ms/step - accuracy: 1.0000 - loss: 1.1349e-08 - val_accuracy: 0.9790 - val_loss: 0.1639\n",
            "Epoch 10/50\n",
            "\u001b[1m200/200\u001b[0m \u001b[32m━━━━━━━━━━━━━━━━━━━━\u001b[0m\u001b[37m\u001b[0m \u001b[1m1s\u001b[0m 4ms/step - accuracy: 1.0000 - loss: 1.2379e-08 - val_accuracy: 0.9790 - val_loss: 0.1644\n",
            "Epoch 11/50\n",
            "\u001b[1m200/200\u001b[0m \u001b[32m━━━━━━━━━━━━━━━━━━━━\u001b[0m\u001b[37m\u001b[0m \u001b[1m1s\u001b[0m 4ms/step - accuracy: 1.0000 - loss: 1.0547e-08 - val_accuracy: 0.9790 - val_loss: 0.1655\n",
            "Epoch 12/50\n",
            "\u001b[1m200/200\u001b[0m \u001b[32m━━━━━━━━━━━━━━━━━━━━\u001b[0m\u001b[37m\u001b[0m \u001b[1m1s\u001b[0m 3ms/step - accuracy: 1.0000 - loss: 8.1367e-09 - val_accuracy: 0.9790 - val_loss: 0.1660\n",
            "Epoch 13/50\n",
            "\u001b[1m200/200\u001b[0m \u001b[32m━━━━━━━━━━━━━━━━━━━━\u001b[0m\u001b[37m\u001b[0m \u001b[1m1s\u001b[0m 3ms/step - accuracy: 1.0000 - loss: 7.2321e-09 - val_accuracy: 0.9790 - val_loss: 0.1669\n",
            "Epoch 14/50\n",
            "\u001b[1m200/200\u001b[0m \u001b[32m━━━━━━━━━━━━━━━━━━━━\u001b[0m\u001b[37m\u001b[0m \u001b[1m1s\u001b[0m 3ms/step - accuracy: 1.0000 - loss: 7.1022e-09 - val_accuracy: 0.9790 - val_loss: 0.1677\n",
            "Epoch 15/50\n",
            "\u001b[1m200/200\u001b[0m \u001b[32m━━━━━━━━━━━━━━━━━━━━\u001b[0m\u001b[37m\u001b[0m \u001b[1m1s\u001b[0m 3ms/step - accuracy: 1.0000 - loss: 6.1408e-09 - val_accuracy: 0.9790 - val_loss: 0.1683\n",
            "Epoch 16/50\n",
            "\u001b[1m200/200\u001b[0m \u001b[32m━━━━━━━━━━━━━━━━━━━━\u001b[0m\u001b[37m\u001b[0m \u001b[1m1s\u001b[0m 3ms/step - accuracy: 1.0000 - loss: 5.3500e-09 - val_accuracy: 0.9790 - val_loss: 0.1694\n",
            "Epoch 17/50\n",
            "\u001b[1m200/200\u001b[0m \u001b[32m━━━━━━━━━━━━━━━━━━━━\u001b[0m\u001b[37m\u001b[0m \u001b[1m1s\u001b[0m 3ms/step - accuracy: 1.0000 - loss: 5.2035e-09 - val_accuracy: 0.9790 - val_loss: 0.1704\n",
            "Epoch 18/50\n",
            "\u001b[1m200/200\u001b[0m \u001b[32m━━━━━━━━━━━━━━━━━━━━\u001b[0m\u001b[37m\u001b[0m \u001b[1m1s\u001b[0m 3ms/step - accuracy: 1.0000 - loss: 5.0117e-09 - val_accuracy: 0.9790 - val_loss: 0.1708\n",
            "Epoch 19/50\n",
            "\u001b[1m200/200\u001b[0m \u001b[32m━━━━━━━━━━━━━━━━━━━━\u001b[0m\u001b[37m\u001b[0m \u001b[1m1s\u001b[0m 3ms/step - accuracy: 1.0000 - loss: 3.7728e-09 - val_accuracy: 0.9790 - val_loss: 0.1711\n",
            "Epoch 20/50\n",
            "\u001b[1m200/200\u001b[0m \u001b[32m━━━━━━━━━━━━━━━━━━━━\u001b[0m\u001b[37m\u001b[0m \u001b[1m1s\u001b[0m 3ms/step - accuracy: 1.0000 - loss: 3.4269e-09 - val_accuracy: 0.9790 - val_loss: 0.1718\n",
            "Epoch 21/50\n",
            "\u001b[1m200/200\u001b[0m \u001b[32m━━━━━━━━━━━━━━━━━━━━\u001b[0m\u001b[37m\u001b[0m \u001b[1m1s\u001b[0m 3ms/step - accuracy: 1.0000 - loss: 3.0397e-09 - val_accuracy: 0.9790 - val_loss: 0.1727\n",
            "Epoch 22/50\n",
            "\u001b[1m200/200\u001b[0m \u001b[32m━━━━━━━━━━━━━━━━━━━━\u001b[0m\u001b[37m\u001b[0m \u001b[1m1s\u001b[0m 3ms/step - accuracy: 1.0000 - loss: 2.7969e-09 - val_accuracy: 0.9790 - val_loss: 0.1728\n",
            "Epoch 23/50\n",
            "\u001b[1m200/200\u001b[0m \u001b[32m━━━━━━━━━━━━━━━━━━━━\u001b[0m\u001b[37m\u001b[0m \u001b[1m1s\u001b[0m 3ms/step - accuracy: 1.0000 - loss: 2.4965e-09 - val_accuracy: 0.9790 - val_loss: 0.1730\n",
            "Epoch 24/50\n",
            "\u001b[1m200/200\u001b[0m \u001b[32m━━━━━━━━━━━━━━━━━━━━\u001b[0m\u001b[37m\u001b[0m \u001b[1m1s\u001b[0m 3ms/step - accuracy: 1.0000 - loss: 1.9833e-09 - val_accuracy: 0.9790 - val_loss: 0.1741\n",
            "Epoch 25/50\n",
            "\u001b[1m200/200\u001b[0m \u001b[32m━━━━━━━━━━━━━━━━━━━━\u001b[0m\u001b[37m\u001b[0m \u001b[1m1s\u001b[0m 3ms/step - accuracy: 1.0000 - loss: 1.7864e-09 - val_accuracy: 0.9790 - val_loss: 0.1746\n",
            "Epoch 26/50\n",
            "\u001b[1m200/200\u001b[0m \u001b[32m━━━━━━━━━━━━━━━━━━━━\u001b[0m\u001b[37m\u001b[0m \u001b[1m1s\u001b[0m 3ms/step - accuracy: 1.0000 - loss: 1.7932e-09 - val_accuracy: 0.9790 - val_loss: 0.1753\n",
            "Epoch 27/50\n",
            "\u001b[1m200/200\u001b[0m \u001b[32m━━━━━━━━━━━━━━━━━━━━\u001b[0m\u001b[37m\u001b[0m \u001b[1m1s\u001b[0m 3ms/step - accuracy: 1.0000 - loss: 1.7839e-09 - val_accuracy: 0.9790 - val_loss: 0.1764\n",
            "Epoch 28/50\n",
            "\u001b[1m200/200\u001b[0m \u001b[32m━━━━━━━━━━━━━━━━━━━━\u001b[0m\u001b[37m\u001b[0m \u001b[1m1s\u001b[0m 3ms/step - accuracy: 1.0000 - loss: 1.6358e-09 - val_accuracy: 0.9790 - val_loss: 0.1770\n",
            "Epoch 29/50\n",
            "\u001b[1m200/200\u001b[0m \u001b[32m━━━━━━━━━━━━━━━━━━━━\u001b[0m\u001b[37m\u001b[0m \u001b[1m1s\u001b[0m 4ms/step - accuracy: 1.0000 - loss: 9.9411e-10 - val_accuracy: 0.9790 - val_loss: 0.1774\n",
            "Epoch 30/50\n",
            "\u001b[1m200/200\u001b[0m \u001b[32m━━━━━━━━━━━━━━━━━━━━\u001b[0m\u001b[37m\u001b[0m \u001b[1m1s\u001b[0m 4ms/step - accuracy: 1.0000 - loss: 8.0972e-10 - val_accuracy: 0.9790 - val_loss: 0.1791\n",
            "Epoch 31/50\n",
            "\u001b[1m200/200\u001b[0m \u001b[32m━━━━━━━━━━━━━━━━━━━━\u001b[0m\u001b[37m\u001b[0m \u001b[1m1s\u001b[0m 3ms/step - accuracy: 1.0000 - loss: 7.0721e-10 - val_accuracy: 0.9790 - val_loss: 0.1785\n",
            "Epoch 32/50\n",
            "\u001b[1m200/200\u001b[0m \u001b[32m━━━━━━━━━━━━━━━━━━━━\u001b[0m\u001b[37m\u001b[0m \u001b[1m1s\u001b[0m 3ms/step - accuracy: 1.0000 - loss: 3.8519e-10 - val_accuracy: 0.9790 - val_loss: 0.1781\n",
            "Epoch 33/50\n",
            "\u001b[1m200/200\u001b[0m \u001b[32m━━━━━━━━━━━━━━━━━━━━\u001b[0m\u001b[37m\u001b[0m \u001b[1m1s\u001b[0m 3ms/step - accuracy: 1.0000 - loss: 5.1529e-10 - val_accuracy: 0.9790 - val_loss: 0.1793\n",
            "Epoch 34/50\n",
            "\u001b[1m200/200\u001b[0m \u001b[32m━━━━━━━━━━━━━━━━━━━━\u001b[0m\u001b[37m\u001b[0m \u001b[1m1s\u001b[0m 3ms/step - accuracy: 1.0000 - loss: 3.7247e-10 - val_accuracy: 0.9790 - val_loss: 0.1796\n",
            "Epoch 35/50\n",
            "\u001b[1m200/200\u001b[0m \u001b[32m━━━━━━━━━━━━━━━━━━━━\u001b[0m\u001b[37m\u001b[0m \u001b[1m1s\u001b[0m 3ms/step - accuracy: 1.0000 - loss: 3.1963e-10 - val_accuracy: 0.9790 - val_loss: 0.1798\n",
            "Epoch 36/50\n",
            "\u001b[1m200/200\u001b[0m \u001b[32m━━━━━━━━━━━━━━━━━━━━\u001b[0m\u001b[37m\u001b[0m \u001b[1m1s\u001b[0m 3ms/step - accuracy: 1.0000 - loss: 1.8866e-10 - val_accuracy: 0.9790 - val_loss: 0.1806\n",
            "Epoch 37/50\n",
            "\u001b[1m200/200\u001b[0m \u001b[32m━━━━━━━━━━━━━━━━━━━━\u001b[0m\u001b[37m\u001b[0m \u001b[1m1s\u001b[0m 3ms/step - accuracy: 1.0000 - loss: 3.6283e-11 - val_accuracy: 0.9790 - val_loss: 0.1804\n",
            "Epoch 38/50\n",
            "\u001b[1m200/200\u001b[0m \u001b[32m━━━━━━━━━━━━━━━━━━━━\u001b[0m\u001b[37m\u001b[0m \u001b[1m1s\u001b[0m 3ms/step - accuracy: 1.0000 - loss: 7.3632e-11 - val_accuracy: 0.9790 - val_loss: 0.1803\n",
            "Epoch 39/50\n",
            "\u001b[1m200/200\u001b[0m \u001b[32m━━━━━━━━━━━━━━━━━━━━\u001b[0m\u001b[37m\u001b[0m \u001b[1m1s\u001b[0m 3ms/step - accuracy: 1.0000 - loss: 7.1793e-11 - val_accuracy: 0.9790 - val_loss: 0.1809\n",
            "Epoch 40/50\n",
            "\u001b[1m200/200\u001b[0m \u001b[32m━━━━━━━━━━━━━━━━━━━━\u001b[0m\u001b[37m\u001b[0m \u001b[1m1s\u001b[0m 3ms/step - accuracy: 1.0000 - loss: 4.6313e-11 - val_accuracy: 0.9790 - val_loss: 0.1811\n",
            "Epoch 41/50\n",
            "\u001b[1m200/200\u001b[0m \u001b[32m━━━━━━━━━━━━━━━━━━━━\u001b[0m\u001b[37m\u001b[0m \u001b[1m1s\u001b[0m 3ms/step - accuracy: 1.0000 - loss: 2.9138e-11 - val_accuracy: 0.9790 - val_loss: 0.1812\n",
            "Epoch 42/50\n",
            "\u001b[1m200/200\u001b[0m \u001b[32m━━━━━━━━━━━━━━━━━━━━\u001b[0m\u001b[37m\u001b[0m \u001b[1m1s\u001b[0m 3ms/step - accuracy: 1.0000 - loss: 7.1187e-12 - val_accuracy: 0.9790 - val_loss: 0.1815\n",
            "Epoch 43/50\n",
            "\u001b[1m200/200\u001b[0m \u001b[32m━━━━━━━━━━━━━━━━━━━━\u001b[0m\u001b[37m\u001b[0m \u001b[1m1s\u001b[0m 3ms/step - accuracy: 1.0000 - loss: 0.0000e+00 - val_accuracy: 0.9790 - val_loss: 0.1823\n",
            "Epoch 44/50\n",
            "\u001b[1m200/200\u001b[0m \u001b[32m━━━━━━━━━━━━━━━━━━━━\u001b[0m\u001b[37m\u001b[0m \u001b[1m1s\u001b[0m 3ms/step - accuracy: 1.0000 - loss: 2.9376e-12 - val_accuracy: 0.9790 - val_loss: 0.1821\n",
            "Epoch 45/50\n",
            "\u001b[1m200/200\u001b[0m \u001b[32m━━━━━━━━━━━━━━━━━━━━\u001b[0m\u001b[37m\u001b[0m \u001b[1m1s\u001b[0m 3ms/step - accuracy: 1.0000 - loss: 0.0000e+00 - val_accuracy: 0.9790 - val_loss: 0.1827\n",
            "Epoch 46/50\n",
            "\u001b[1m200/200\u001b[0m \u001b[32m━━━━━━━━━━━━━━━━━━━━\u001b[0m\u001b[37m\u001b[0m \u001b[1m1s\u001b[0m 4ms/step - accuracy: 1.0000 - loss: 1.3573e-11 - val_accuracy: 0.9790 - val_loss: 0.1830\n",
            "Epoch 47/50\n",
            "\u001b[1m200/200\u001b[0m \u001b[32m━━━━━━━━━━━━━━━━━━━━\u001b[0m\u001b[37m\u001b[0m \u001b[1m2s\u001b[0m 5ms/step - accuracy: 1.0000 - loss: 0.0000e+00 - val_accuracy: 0.9790 - val_loss: 0.1829\n",
            "Epoch 48/50\n",
            "\u001b[1m200/200\u001b[0m \u001b[32m━━━━━━━━━━━━━━━━━━━━\u001b[0m\u001b[37m\u001b[0m \u001b[1m1s\u001b[0m 3ms/step - accuracy: 1.0000 - loss: 0.0000e+00 - val_accuracy: 0.9790 - val_loss: 0.1832\n",
            "Epoch 49/50\n",
            "\u001b[1m200/200\u001b[0m \u001b[32m━━━━━━━━━━━━━━━━━━━━\u001b[0m\u001b[37m\u001b[0m \u001b[1m1s\u001b[0m 3ms/step - accuracy: 1.0000 - loss: 0.0000e+00 - val_accuracy: 0.9790 - val_loss: 0.1841\n",
            "Epoch 50/50\n",
            "\u001b[1m200/200\u001b[0m \u001b[32m━━━━━━━━━━━━━━━━━━━━\u001b[0m\u001b[37m\u001b[0m \u001b[1m1s\u001b[0m 3ms/step - accuracy: 1.0000 - loss: 0.0000e+00 - val_accuracy: 0.9790 - val_loss: 0.1843\n"
          ]
        }
      ]
    },
    {
      "cell_type": "code",
      "source": [
        "!pip install matplotlib"
      ],
      "metadata": {
        "colab": {
          "base_uri": "https://localhost:8080/"
        },
        "id": "gXXnvP3OTC_4",
        "outputId": "d8b424b2-ebcb-438a-db14-9abc42111275"
      },
      "execution_count": 18,
      "outputs": [
        {
          "output_type": "stream",
          "name": "stdout",
          "text": [
            "Requirement already satisfied: matplotlib in /usr/local/lib/python3.12/dist-packages (3.10.0)\n",
            "Requirement already satisfied: contourpy>=1.0.1 in /usr/local/lib/python3.12/dist-packages (from matplotlib) (1.3.3)\n",
            "Requirement already satisfied: cycler>=0.10 in /usr/local/lib/python3.12/dist-packages (from matplotlib) (0.12.1)\n",
            "Requirement already satisfied: fonttools>=4.22.0 in /usr/local/lib/python3.12/dist-packages (from matplotlib) (4.60.1)\n",
            "Requirement already satisfied: kiwisolver>=1.3.1 in /usr/local/lib/python3.12/dist-packages (from matplotlib) (1.4.9)\n",
            "Requirement already satisfied: numpy>=1.23 in /usr/local/lib/python3.12/dist-packages (from matplotlib) (2.0.2)\n",
            "Requirement already satisfied: packaging>=20.0 in /usr/local/lib/python3.12/dist-packages (from matplotlib) (25.0)\n",
            "Requirement already satisfied: pillow>=8 in /usr/local/lib/python3.12/dist-packages (from matplotlib) (11.3.0)\n",
            "Requirement already satisfied: pyparsing>=2.3.1 in /usr/local/lib/python3.12/dist-packages (from matplotlib) (3.2.5)\n",
            "Requirement already satisfied: python-dateutil>=2.7 in /usr/local/lib/python3.12/dist-packages (from matplotlib) (2.9.0.post0)\n",
            "Requirement already satisfied: six>=1.5 in /usr/local/lib/python3.12/dist-packages (from python-dateutil>=2.7->matplotlib) (1.17.0)\n"
          ]
        }
      ]
    },
    {
      "cell_type": "code",
      "source": [],
      "metadata": {
        "id": "go5e6uNhTIPS"
      },
      "execution_count": null,
      "outputs": []
    },
    {
      "cell_type": "code",
      "source": [
        "history = modelo.fit(\n",
        "    X_train, y_train,\n",
        "    epochs=50,\n",
        "    batch_size=8,\n",
        "    validation_data=(X_test, y_test),\n",
        "    verbose=1\n",
        ")"
      ],
      "metadata": {
        "colab": {
          "base_uri": "https://localhost:8080/"
        },
        "id": "gkkVrgXCLPB6",
        "outputId": "f9521be9-5838-4c63-9777-cbf6157fc4cc"
      },
      "execution_count": 16,
      "outputs": [
        {
          "output_type": "stream",
          "name": "stdout",
          "text": [
            "Epoch 1/50\n",
            "\u001b[1m500/500\u001b[0m \u001b[32m━━━━━━━━━━━━━━━━━━━━\u001b[0m\u001b[37m\u001b[0m \u001b[1m5s\u001b[0m 4ms/step - accuracy: 0.7966 - loss: 0.3935 - val_accuracy: 0.9520 - val_loss: 0.1116\n",
            "Epoch 2/50\n",
            "\u001b[1m500/500\u001b[0m \u001b[32m━━━━━━━━━━━━━━━━━━━━\u001b[0m\u001b[37m\u001b[0m \u001b[1m1s\u001b[0m 3ms/step - accuracy: 0.9703 - loss: 0.0702 - val_accuracy: 0.9710 - val_loss: 0.0699\n",
            "Epoch 3/50\n",
            "\u001b[1m500/500\u001b[0m \u001b[32m━━━━━━━━━━━━━━━━━━━━\u001b[0m\u001b[37m\u001b[0m \u001b[1m1s\u001b[0m 3ms/step - accuracy: 0.9873 - loss: 0.0410 - val_accuracy: 0.9650 - val_loss: 0.0880\n",
            "Epoch 4/50\n",
            "\u001b[1m500/500\u001b[0m \u001b[32m━━━━━━━━━━━━━━━━━━━━\u001b[0m\u001b[37m\u001b[0m \u001b[1m1s\u001b[0m 3ms/step - accuracy: 0.9867 - loss: 0.0330 - val_accuracy: 0.9720 - val_loss: 0.0667\n",
            "Epoch 5/50\n",
            "\u001b[1m500/500\u001b[0m \u001b[32m━━━━━━━━━━━━━━━━━━━━\u001b[0m\u001b[37m\u001b[0m \u001b[1m1s\u001b[0m 3ms/step - accuracy: 0.9962 - loss: 0.0180 - val_accuracy: 0.9770 - val_loss: 0.0576\n",
            "Epoch 6/50\n",
            "\u001b[1m500/500\u001b[0m \u001b[32m━━━━━━━━━━━━━━━━━━━━\u001b[0m\u001b[37m\u001b[0m \u001b[1m1s\u001b[0m 3ms/step - accuracy: 0.9929 - loss: 0.0174 - val_accuracy: 0.9720 - val_loss: 0.0765\n",
            "Epoch 7/50\n",
            "\u001b[1m500/500\u001b[0m \u001b[32m━━━━━━━━━━━━━━━━━━━━\u001b[0m\u001b[37m\u001b[0m \u001b[1m1s\u001b[0m 3ms/step - accuracy: 0.9946 - loss: 0.0144 - val_accuracy: 0.9780 - val_loss: 0.0748\n",
            "Epoch 8/50\n",
            "\u001b[1m500/500\u001b[0m \u001b[32m━━━━━━━━━━━━━━━━━━━━\u001b[0m\u001b[37m\u001b[0m \u001b[1m2s\u001b[0m 3ms/step - accuracy: 0.9987 - loss: 0.0068 - val_accuracy: 0.9770 - val_loss: 0.0794\n",
            "Epoch 9/50\n",
            "\u001b[1m500/500\u001b[0m \u001b[32m━━━━━━━━━━━━━━━━━━━━\u001b[0m\u001b[37m\u001b[0m \u001b[1m2s\u001b[0m 3ms/step - accuracy: 0.9979 - loss: 0.0077 - val_accuracy: 0.9740 - val_loss: 0.0937\n",
            "Epoch 10/50\n",
            "\u001b[1m500/500\u001b[0m \u001b[32m━━━━━━━━━━━━━━━━━━━━\u001b[0m\u001b[37m\u001b[0m \u001b[1m1s\u001b[0m 3ms/step - accuracy: 0.9982 - loss: 0.0071 - val_accuracy: 0.9760 - val_loss: 0.0739\n",
            "Epoch 11/50\n",
            "\u001b[1m500/500\u001b[0m \u001b[32m━━━━━━━━━━━━━━━━━━━━\u001b[0m\u001b[37m\u001b[0m \u001b[1m1s\u001b[0m 3ms/step - accuracy: 0.9875 - loss: 0.0337 - val_accuracy: 0.9750 - val_loss: 0.0749\n",
            "Epoch 12/50\n",
            "\u001b[1m500/500\u001b[0m \u001b[32m━━━━━━━━━━━━━━━━━━━━\u001b[0m\u001b[37m\u001b[0m \u001b[1m1s\u001b[0m 3ms/step - accuracy: 0.9979 - loss: 0.0070 - val_accuracy: 0.9790 - val_loss: 0.0799\n",
            "Epoch 13/50\n",
            "\u001b[1m500/500\u001b[0m \u001b[32m━━━━━━━━━━━━━━━━━━━━\u001b[0m\u001b[37m\u001b[0m \u001b[1m3s\u001b[0m 3ms/step - accuracy: 0.9955 - loss: 0.0116 - val_accuracy: 0.9730 - val_loss: 0.0693\n",
            "Epoch 14/50\n",
            "\u001b[1m500/500\u001b[0m \u001b[32m━━━━━━━━━━━━━━━━━━━━\u001b[0m\u001b[37m\u001b[0m \u001b[1m1s\u001b[0m 3ms/step - accuracy: 0.9950 - loss: 0.0126 - val_accuracy: 0.9720 - val_loss: 0.1039\n",
            "Epoch 15/50\n",
            "\u001b[1m500/500\u001b[0m \u001b[32m━━━━━━━━━━━━━━━━━━━━\u001b[0m\u001b[37m\u001b[0m \u001b[1m1s\u001b[0m 3ms/step - accuracy: 0.9991 - loss: 0.0037 - val_accuracy: 0.9750 - val_loss: 0.1092\n",
            "Epoch 16/50\n",
            "\u001b[1m500/500\u001b[0m \u001b[32m━━━━━━━━━━━━━━━━━━━━\u001b[0m\u001b[37m\u001b[0m \u001b[1m2s\u001b[0m 4ms/step - accuracy: 0.9926 - loss: 0.0148 - val_accuracy: 0.9700 - val_loss: 0.1523\n",
            "Epoch 17/50\n",
            "\u001b[1m500/500\u001b[0m \u001b[32m━━━━━━━━━━━━━━━━━━━━\u001b[0m\u001b[37m\u001b[0m \u001b[1m1s\u001b[0m 3ms/step - accuracy: 0.9941 - loss: 0.0101 - val_accuracy: 0.9780 - val_loss: 0.0717\n",
            "Epoch 18/50\n",
            "\u001b[1m500/500\u001b[0m \u001b[32m━━━━━━━━━━━━━━━━━━━━\u001b[0m\u001b[37m\u001b[0m \u001b[1m1s\u001b[0m 3ms/step - accuracy: 0.9984 - loss: 0.0053 - val_accuracy: 0.9790 - val_loss: 0.0834\n",
            "Epoch 19/50\n",
            "\u001b[1m500/500\u001b[0m \u001b[32m━━━━━━━━━━━━━━━━━━━━\u001b[0m\u001b[37m\u001b[0m \u001b[1m1s\u001b[0m 3ms/step - accuracy: 0.9991 - loss: 0.0022 - val_accuracy: 0.9770 - val_loss: 0.0842\n",
            "Epoch 20/50\n",
            "\u001b[1m500/500\u001b[0m \u001b[32m━━━━━━━━━━━━━━━━━━━━\u001b[0m\u001b[37m\u001b[0m \u001b[1m1s\u001b[0m 3ms/step - accuracy: 1.0000 - loss: 2.7340e-04 - val_accuracy: 0.9760 - val_loss: 0.0866\n",
            "Epoch 21/50\n",
            "\u001b[1m500/500\u001b[0m \u001b[32m━━━━━━━━━━━━━━━━━━━━\u001b[0m\u001b[37m\u001b[0m \u001b[1m1s\u001b[0m 3ms/step - accuracy: 1.0000 - loss: 1.8417e-04 - val_accuracy: 0.9770 - val_loss: 0.0899\n",
            "Epoch 22/50\n",
            "\u001b[1m500/500\u001b[0m \u001b[32m━━━━━━━━━━━━━━━━━━━━\u001b[0m\u001b[37m\u001b[0m \u001b[1m1s\u001b[0m 3ms/step - accuracy: 1.0000 - loss: 1.4517e-04 - val_accuracy: 0.9770 - val_loss: 0.0917\n",
            "Epoch 23/50\n",
            "\u001b[1m500/500\u001b[0m \u001b[32m━━━━━━━━━━━━━━━━━━━━\u001b[0m\u001b[37m\u001b[0m \u001b[1m1s\u001b[0m 3ms/step - accuracy: 1.0000 - loss: 8.8742e-05 - val_accuracy: 0.9770 - val_loss: 0.0929\n",
            "Epoch 24/50\n",
            "\u001b[1m500/500\u001b[0m \u001b[32m━━━━━━━━━━━━━━━━━━━━\u001b[0m\u001b[37m\u001b[0m \u001b[1m2s\u001b[0m 4ms/step - accuracy: 1.0000 - loss: 6.8189e-05 - val_accuracy: 0.9770 - val_loss: 0.0950\n",
            "Epoch 25/50\n",
            "\u001b[1m500/500\u001b[0m \u001b[32m━━━━━━━━━━━━━━━━━━━━\u001b[0m\u001b[37m\u001b[0m \u001b[1m1s\u001b[0m 3ms/step - accuracy: 1.0000 - loss: 6.1737e-05 - val_accuracy: 0.9770 - val_loss: 0.0975\n",
            "Epoch 26/50\n",
            "\u001b[1m500/500\u001b[0m \u001b[32m━━━━━━━━━━━━━━━━━━━━\u001b[0m\u001b[37m\u001b[0m \u001b[1m1s\u001b[0m 3ms/step - accuracy: 1.0000 - loss: 4.5621e-05 - val_accuracy: 0.9770 - val_loss: 0.0974\n",
            "Epoch 27/50\n",
            "\u001b[1m500/500\u001b[0m \u001b[32m━━━━━━━━━━━━━━━━━━━━\u001b[0m\u001b[37m\u001b[0m \u001b[1m1s\u001b[0m 3ms/step - accuracy: 1.0000 - loss: 3.3006e-05 - val_accuracy: 0.9780 - val_loss: 0.1019\n",
            "Epoch 28/50\n",
            "\u001b[1m500/500\u001b[0m \u001b[32m━━━━━━━━━━━━━━━━━━━━\u001b[0m\u001b[37m\u001b[0m \u001b[1m1s\u001b[0m 3ms/step - accuracy: 1.0000 - loss: 2.7556e-05 - val_accuracy: 0.9770 - val_loss: 0.1059\n",
            "Epoch 29/50\n",
            "\u001b[1m500/500\u001b[0m \u001b[32m━━━━━━━━━━━━━━━━━━━━\u001b[0m\u001b[37m\u001b[0m \u001b[1m1s\u001b[0m 3ms/step - accuracy: 1.0000 - loss: 2.1478e-05 - val_accuracy: 0.9780 - val_loss: 0.1055\n",
            "Epoch 30/50\n",
            "\u001b[1m500/500\u001b[0m \u001b[32m━━━━━━━━━━━━━━━━━━━━\u001b[0m\u001b[37m\u001b[0m \u001b[1m1s\u001b[0m 3ms/step - accuracy: 1.0000 - loss: 1.3839e-05 - val_accuracy: 0.9780 - val_loss: 0.1093\n",
            "Epoch 31/50\n",
            "\u001b[1m500/500\u001b[0m \u001b[32m━━━━━━━━━━━━━━━━━━━━\u001b[0m\u001b[37m\u001b[0m \u001b[1m1s\u001b[0m 3ms/step - accuracy: 1.0000 - loss: 1.0270e-05 - val_accuracy: 0.9770 - val_loss: 0.1126\n",
            "Epoch 32/50\n",
            "\u001b[1m500/500\u001b[0m \u001b[32m━━━━━━━━━━━━━━━━━━━━\u001b[0m\u001b[37m\u001b[0m \u001b[1m2s\u001b[0m 4ms/step - accuracy: 1.0000 - loss: 7.7813e-06 - val_accuracy: 0.9780 - val_loss: 0.1112\n",
            "Epoch 33/50\n",
            "\u001b[1m500/500\u001b[0m \u001b[32m━━━━━━━━━━━━━━━━━━━━\u001b[0m\u001b[37m\u001b[0m \u001b[1m2s\u001b[0m 3ms/step - accuracy: 1.0000 - loss: 6.6872e-06 - val_accuracy: 0.9780 - val_loss: 0.1161\n",
            "Epoch 34/50\n",
            "\u001b[1m500/500\u001b[0m \u001b[32m━━━━━━━━━━━━━━━━━━━━\u001b[0m\u001b[37m\u001b[0m \u001b[1m1s\u001b[0m 3ms/step - accuracy: 1.0000 - loss: 4.2319e-06 - val_accuracy: 0.9790 - val_loss: 0.1186\n",
            "Epoch 35/50\n",
            "\u001b[1m500/500\u001b[0m \u001b[32m━━━━━━━━━━━━━━━━━━━━\u001b[0m\u001b[37m\u001b[0m \u001b[1m1s\u001b[0m 3ms/step - accuracy: 1.0000 - loss: 2.7958e-06 - val_accuracy: 0.9780 - val_loss: 0.1214\n",
            "Epoch 36/50\n",
            "\u001b[1m500/500\u001b[0m \u001b[32m━━━━━━━━━━━━━━━━━━━━\u001b[0m\u001b[37m\u001b[0m \u001b[1m1s\u001b[0m 3ms/step - accuracy: 1.0000 - loss: 2.5038e-06 - val_accuracy: 0.9790 - val_loss: 0.1203\n",
            "Epoch 37/50\n",
            "\u001b[1m500/500\u001b[0m \u001b[32m━━━━━━━━━━━━━━━━━━━━\u001b[0m\u001b[37m\u001b[0m \u001b[1m1s\u001b[0m 3ms/step - accuracy: 1.0000 - loss: 1.9070e-06 - val_accuracy: 0.9800 - val_loss: 0.1249\n",
            "Epoch 38/50\n",
            "\u001b[1m500/500\u001b[0m \u001b[32m━━━━━━━━━━━━━━━━━━━━\u001b[0m\u001b[37m\u001b[0m \u001b[1m1s\u001b[0m 3ms/step - accuracy: 1.0000 - loss: 1.2234e-06 - val_accuracy: 0.9780 - val_loss: 0.1279\n",
            "Epoch 39/50\n",
            "\u001b[1m500/500\u001b[0m \u001b[32m━━━━━━━━━━━━━━━━━━━━\u001b[0m\u001b[37m\u001b[0m \u001b[1m1s\u001b[0m 3ms/step - accuracy: 1.0000 - loss: 8.6978e-07 - val_accuracy: 0.9790 - val_loss: 0.1306\n",
            "Epoch 40/50\n",
            "\u001b[1m500/500\u001b[0m \u001b[32m━━━━━━━━━━━━━━━━━━━━\u001b[0m\u001b[37m\u001b[0m \u001b[1m2s\u001b[0m 4ms/step - accuracy: 1.0000 - loss: 6.4771e-07 - val_accuracy: 0.9790 - val_loss: 0.1345\n",
            "Epoch 41/50\n",
            "\u001b[1m500/500\u001b[0m \u001b[32m━━━━━━━━━━━━━━━━━━━━\u001b[0m\u001b[37m\u001b[0m \u001b[1m2s\u001b[0m 3ms/step - accuracy: 1.0000 - loss: 5.1338e-07 - val_accuracy: 0.9790 - val_loss: 0.1340\n",
            "Epoch 42/50\n",
            "\u001b[1m500/500\u001b[0m \u001b[32m━━━━━━━━━━━━━━━━━━━━\u001b[0m\u001b[37m\u001b[0m \u001b[1m1s\u001b[0m 3ms/step - accuracy: 1.0000 - loss: 4.3836e-07 - val_accuracy: 0.9780 - val_loss: 0.1383\n",
            "Epoch 43/50\n",
            "\u001b[1m500/500\u001b[0m \u001b[32m━━━━━━━━━━━━━━━━━━━━\u001b[0m\u001b[37m\u001b[0m \u001b[1m1s\u001b[0m 3ms/step - accuracy: 1.0000 - loss: 3.3270e-07 - val_accuracy: 0.9780 - val_loss: 0.1419\n",
            "Epoch 44/50\n",
            "\u001b[1m500/500\u001b[0m \u001b[32m━━━━━━━━━━━━━━━━━━━━\u001b[0m\u001b[37m\u001b[0m \u001b[1m1s\u001b[0m 3ms/step - accuracy: 1.0000 - loss: 2.1649e-07 - val_accuracy: 0.9790 - val_loss: 0.1407\n",
            "Epoch 45/50\n",
            "\u001b[1m500/500\u001b[0m \u001b[32m━━━━━━━━━━━━━━━━━━━━\u001b[0m\u001b[37m\u001b[0m \u001b[1m1s\u001b[0m 3ms/step - accuracy: 1.0000 - loss: 1.3370e-07 - val_accuracy: 0.9790 - val_loss: 0.1435\n",
            "Epoch 46/50\n",
            "\u001b[1m500/500\u001b[0m \u001b[32m━━━━━━━━━━━━━━━━━━━━\u001b[0m\u001b[37m\u001b[0m \u001b[1m1s\u001b[0m 3ms/step - accuracy: 1.0000 - loss: 1.1769e-07 - val_accuracy: 0.9780 - val_loss: 0.1466\n",
            "Epoch 47/50\n",
            "\u001b[1m500/500\u001b[0m \u001b[32m━━━━━━━━━━━━━━━━━━━━\u001b[0m\u001b[37m\u001b[0m \u001b[1m2s\u001b[0m 5ms/step - accuracy: 1.0000 - loss: 8.0038e-08 - val_accuracy: 0.9780 - val_loss: 0.1496\n",
            "Epoch 48/50\n",
            "\u001b[1m500/500\u001b[0m \u001b[32m━━━━━━━━━━━━━━━━━━━━\u001b[0m\u001b[37m\u001b[0m \u001b[1m2s\u001b[0m 4ms/step - accuracy: 1.0000 - loss: 5.6882e-08 - val_accuracy: 0.9790 - val_loss: 0.1508\n",
            "Epoch 49/50\n",
            "\u001b[1m500/500\u001b[0m \u001b[32m━━━━━━━━━━━━━━━━━━━━\u001b[0m\u001b[37m\u001b[0m \u001b[1m1s\u001b[0m 3ms/step - accuracy: 1.0000 - loss: 4.4955e-08 - val_accuracy: 0.9790 - val_loss: 0.1513\n",
            "Epoch 50/50\n",
            "\u001b[1m500/500\u001b[0m \u001b[32m━━━━━━━━━━━━━━━━━━━━\u001b[0m\u001b[37m\u001b[0m \u001b[1m1s\u001b[0m 3ms/step - accuracy: 1.0000 - loss: 3.3672e-08 - val_accuracy: 0.9790 - val_loss: 0.1548\n"
          ]
        }
      ]
    },
    {
      "cell_type": "code",
      "source": [
        "import matplotlib.pyplot as plt\n",
        "\n",
        "plt.plot(history.history['loss'], label='Pérdida de entrenamiento')\n",
        "plt.plot(history.history['val_loss'], label='Pérdida de validación')\n",
        "plt.xlabel('Épocas')\n",
        "plt.ylabel('Pérdida')\n",
        "plt.legend()\n",
        "plt.title('Evolución de la función de pérdida')\n",
        "plt.show()\n",
        "\n",
        "loss, acc = modelo.evaluate(X_test, y_test)\n",
        "print(f\"\\n🔹 Loss: {loss:.4f}  |  Accuracy: {acc:.4f}\")"
      ],
      "metadata": {
        "colab": {
          "base_uri": "https://localhost:8080/",
          "height": 528
        },
        "id": "KiW2WtOtLPwP",
        "outputId": "8b2623da-6d2b-43f9-bfdc-c6026aa78567"
      },
      "execution_count": 19,
      "outputs": [
        {
          "output_type": "display_data",
          "data": {
            "text/plain": [
              "<Figure size 640x480 with 1 Axes>"
            ],
            "image/png": "[encoded data removed]"
          },
          "metadata": {}
        },
        {
          "output_type": "stream",
          "name": "stdout",
          "text": [
            "\u001b[1m32/32\u001b[0m \u001b[32m━━━━━━━━━━━━━━━━━━━━\u001b[0m\u001b[37m\u001b[0m \u001b[1m1s\u001b[0m 10ms/step - accuracy: 0.9772 - loss: 0.1789\n",
            "\n",
            "🔹 Loss: 0.1843  |  Accuracy: 0.9790\n"
          ]
        }
      ]
    },
    {
      "cell_type": "code",
      "source": [
        "from sklearn.metrics import confusion_matrix, ConfusionMatrixDisplay, recall_score\n",
        "\n",
        "pred = modelo.predict(X_test)\n",
        "y_pred = np.argmax(pred, axis=1)\n",
        "y_true = np.argmax(y_test, axis=1)\n",
        "\n",
        "cm = confusion_matrix(y_true, y_pred)\n",
        "disp = ConfusionMatrixDisplay(confusion_matrix=cm, display_labels=['No Apto', 'Apto'])\n",
        "disp.plot(cmap='Blues')\n",
        "plt.show()\n",
        "\n",
        "sensitivity = recall_score(y_true, y_pred, average=None)\n",
        "print(\"\\nSensitivity (Recall) por clase:\")\n",
        "print(f\"No Apto: {sensitivity[0]:.2f}\")\n",
        "print(f\"Apto: {sensitivity[1]:.2f}\")"
      ],
      "metadata": {
        "colab": {
          "base_uri": "https://localhost:8080/",
          "height": 538
        },
        "id": "6KLVl65BLQIu",
        "outputId": "7f4b2d1f-4f67-4034-fc02-d894a86fa5f6"
      },
      "execution_count": 21,
      "outputs": [
        {
          "output_type": "stream",
          "name": "stdout",
          "text": [
            "\u001b[1m32/32\u001b[0m \u001b[32m━━━━━━━━━━━━━━━━━━━━\u001b[0m\u001b[37m\u001b[0m \u001b[1m1s\u001b[0m 11ms/step\n"
          ]
        },
        {
          "output_type": "display_data",
          "data": {
            "text/plain": [
              "<Figure size 640x480 with 2 Axes>"
            ],
            "image/png": "[encoded data removed]"
          },
          "metadata": {}
        },
        {
          "output_type": "stream",
          "name": "stdout",
          "text": [
            "\n",
            "Sensitivity (Recall) por clase:\n",
            "No Apto: 0.97\n",
            "Apto: 0.98\n"
          ]
        }
      ]
    },
    {
      "cell_type": "code",
      "source": [
        "##la metriz de confucion se ve bonita apesar de que el modelo tiene sobre ajuste\n",
        "\n",
        "\n",
        "# analizar\n",
        "# funcion de perdida\n",
        "# matriz de confucion"
      ],
      "metadata": {
        "id": "6z5yur-WULqo"
      },
      "execution_count": null,
      "outputs": []
    },
    {
      "cell_type": "code",
      "source": [
        "nuevo_candidato = np.array([[90, 88, 85, 87, 84, 89,   # técnicas\n",
        "                             82, 86, 85, 83, 87, 80,   # matemáticas\n",
        "                             70, 75, 80, 72, 78, 74]]) # psicológicas\n",
        "\n",
        "nuevo_candidato_scaled = scaler.transform(nuevo_candidato)\n",
        "pred_nuevo = modelo.predict(nuevo_candidato_scaled)\n",
        "clase_predicha = np.argmax(pred_nuevo)\n",
        "\n",
        "print(\"Evaluación de nuevo candidato:\")\n",
        "print(f\"Resultado: {'Apto' if clase_predicha == 1 else 'No Apto'}\")"
      ],
      "metadata": {
        "id": "7DZAOxTdLQpO"
      },
      "execution_count": null,
      "outputs": []
    },
    {
      "cell_type": "code",
      "source": [
        "nuevo_candidato = np.array([[90, 88, 85, 87, 84, 89,   # técnicas\n",
        "                             82, 86, 85, 83, 87, 80,   # matemáticas\n",
        "                             70, 75, 80, 72, 78, 74]]) # psicológicas\n",
        "\n",
        "nuevo_candidato_scaled = scaler.transform(nuevo_candidato)\n",
        "pred_nuevo = modelo.predict(nuevo_candidato_scaled)\n",
        "clase_predicha = np.argmax(pred_nuevo)\n",
        "\n",
        "print(\"Evaluación de nuevo candidato:\")\n",
        "print(f\"Resultado: {'Apto' if clase_predicha == 1 else 'No Apto'}\")"
      ],
      "metadata": {
        "id": "szoId9ZTLc6e"
      },
      "execution_count": null,
      "outputs": []
    }
  ]
}