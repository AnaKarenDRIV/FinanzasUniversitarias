{
  "nbformat": 4,
  "nbformat_minor": 0,
  "metadata": {
    "colab": {
      "provenance": [],
      "authorship_tag": "ABX9TyNJ5stByogjqT6cyWOeX33j",
      "include_colab_link": true
    },
    "kernelspec": {
      "name": "python3",
      "display_name": "Python 3"
    },
    "language_info": {
      "name": "python"
    }
  },
  "cells": [
    {
      "cell_type": "markdown",
      "metadata": {
        "id": "view-in-github",
        "colab_type": "text"
      },
      "source": [
        "<a href=\"https://colab.research.google.com/github/AnaKarenDRIV/FinanzasUniversitarias/blob/main/McCullockPitts_OR_McCullockPitts_NOT_McCullockPitts.ipynb\" target=\"_parent\"><img src=\"https://colab.research.google.com/assets/colab-badge.svg\" alt=\"Open In Colab\"/></a>"
      ]
    },
    {
      "cell_type": "code",
      "execution_count": 1,
      "metadata": {
        "colab": {
          "base_uri": "https://localhost:8080/"
        },
        "id": "e9iiUlCR8far",
        "outputId": "6ef4713c-41d4-4725-dc07-0808f800e572"
      },
      "outputs": [
        {
          "output_type": "stream",
          "name": "stdout",
          "text": [
            "Entradas:\n",
            " [[0 0]\n",
            " [0 1]\n",
            " [1 0]\n",
            " [1 1]]\n",
            "Salidas OR: [0, 1, 1, 1]\n"
          ]
        }
      ],
      "source": [
        "# McCulloch-Pitts - Operación OR\n",
        "\n",
        "import numpy as np\n",
        "\n",
        "# Entradas (todas las combinaciones posibles de A y B)\n",
        "entradas = np.array([[0,0], [0,1], [1,0], [1,1]])\n",
        "\n",
        "# Pesos (para la operación OR)\n",
        "pesos = np.array([1, 1])\n",
        "\n",
        "# Umbral de activación\n",
        "umbral = 1\n",
        "\n",
        "# Salidas calculadas\n",
        "salidas = []\n",
        "\n",
        "for x in entradas:\n",
        "    # Suma ponderada\n",
        "    suma = np.dot(x, pesos)\n",
        "\n",
        "    # Función de activación (step)\n",
        "    salida = 1 if suma >= umbral else 0\n",
        "    salidas.append(salida)\n",
        "\n",
        "print(\"Entradas:\\n\", entradas)\n",
        "print(\"Salidas OR:\", salidas)"
      ]
    },
    {
      "cell_type": "code",
      "source": [],
      "metadata": {
        "id": "7cw7CBuc8yfd"
      },
      "execution_count": null,
      "outputs": []
    },
    {
      "cell_type": "markdown",
      "source": [
        "Explicación\n",
        "\n",
        "La neurona McCulloch-Pitts simula una decisión simple basada en una suma de entradas ponderadas.\n",
        "\n",
        "Cada entrada (A y B) tiene un peso asociado.\n",
        "\n",
        "La neurona suma esas entradas y las compara con un umbral (threshold).\n",
        "\n",
        "Si la suma es mayor o igual al umbral, la neurona se activa (1).\n",
        "\n",
        "Si no, la neurona permanece inactiva (0).\n",
        "\n",
        "En este caso:\n",
        "\n",
        "Si al menos una entrada es 1, la neurona devuelve 1, que es justo la lógica de la operación OR."
      ],
      "metadata": {
        "id": "Wx2lyGQR8qCw"
      }
    },
    {
      "cell_type": "code",
      "source": [
        "# McCulloch-Pitts - Operación NOT\n",
        "\n",
        "import numpy as np\n",
        "\n",
        "# Entradas posibles (solo una variable)\n",
        "entradas = np.array([[0], [1]])\n",
        "\n",
        "# Peso negativo (para invertir el resultado)\n",
        "pesos = np.array([-1])\n",
        "\n",
        "# Umbral de activación\n",
        "umbral = 0\n",
        "\n",
        "# Salidas calculadas\n",
        "salidas = []\n",
        "\n",
        "for x in entradas:\n",
        "    # Suma ponderada\n",
        "    suma = np.dot(x, pesos)\n",
        "\n",
        "    # Función de activación (step)\n",
        "    salida = 1 if suma >= umbral else 0\n",
        "    salidas.append(salida)\n",
        "\n",
        "print(\"Entradas:\\n\", entradas)\n",
        "print(\"Salidas NOT:\", salidas)"
      ],
      "metadata": {
        "colab": {
          "base_uri": "https://localhost:8080/"
        },
        "id": "jvM-uKcv8tfI",
        "outputId": "d8276fb6-21dc-452b-bc95-a97ad35f91c0"
      },
      "execution_count": 2,
      "outputs": [
        {
          "output_type": "stream",
          "name": "stdout",
          "text": [
            "Entradas:\n",
            " [[0]\n",
            " [1]]\n",
            "Salidas NOT: [1, 0]\n"
          ]
        }
      ]
    },
    {
      "cell_type": "markdown",
      "source": [
        "Explicación\n",
        "\n",
        "En esta neurona:\n",
        "\n",
        "Solo hay una entrada.\n",
        "\n",
        "El peso negativo hace que cuando la entrada es 1, la suma sea negativa (menor que el umbral), por lo tanto la salida es 0.\n",
        "\n",
        "Cuando la entrada es 0, la suma es 0 (igual al umbral), y la neurona se activa (1).\n",
        "\n",
        "Así, la neurona reproduce el comportamiento lógico del NOT:\n",
        "\n",
        "Entrada 0, 1\tSalida  1,0\n"
      ],
      "metadata": {
        "id": "8lvw93AY81Ol"
      }
    },
    {
      "cell_type": "code",
      "source": [],
      "metadata": {
        "id": "7BtA11VV88E2"
      },
      "execution_count": null,
      "outputs": []
    }
  ]
}