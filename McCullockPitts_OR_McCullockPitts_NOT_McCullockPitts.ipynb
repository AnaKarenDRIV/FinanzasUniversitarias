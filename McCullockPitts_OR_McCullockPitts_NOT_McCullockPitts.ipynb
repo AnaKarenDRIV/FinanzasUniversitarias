{
  "nbformat": 4,
  "nbformat_minor": 0,
  "metadata": {
    "colab": {
      "provenance": [],
      "authorship_tag": "ABX9TyN22LjNL/If1hw5dnQy4Cao",
      "include_colab_link": true
    },
    "kernelspec": {
      "name": "python3",
      "display_name": "Python 3"
    },
    "language_info": {
      "name": "python"
    }
  },
  "cells": [
    {
      "cell_type": "markdown",
      "metadata": {
        "id": "view-in-github",
        "colab_type": "text"
      },
      "source": [
        "<a href=\"https://colab.research.google.com/github/AnaKarenDRIV/FinanzasUniversitarias/blob/main/McCullockPitts_OR_McCullockPitts_NOT_McCullockPitts.ipynb\" target=\"_parent\"><img src=\"https://colab.research.google.com/assets/colab-badge.svg\" alt=\"Open In Colab\"/></a>"
      ]
    },
    {
      "cell_type": "code",
      "source": [
        "import numpy as np\n",
        "# Entradas para la neurona\n",
        "X = np.array([\n",
        "    [0, 0],\n",
        "    [0, 1],\n",
        "    [1, 0],\n",
        "    [1, 1]\n",
        "])\n",
        "# Salidas\n",
        "Y = np.array([0, 0, 0, 1])\n",
        "# Pesos para las entradas\n",
        "W = [1, 1]\n",
        "# Umbral para la función de activación\n",
        "umbral = 2\n",
        "class McCullochPitts:\n",
        "    def __init__(self, weights, umbral):\n",
        "        \"\"\"\n",
        "            Constructor de la neurona MCP.\n",
        "            Guarda las variables\n",
        "            weights -> vector de pesos iniciales\n",
        "            umbral -> umbral para usar en la funcion de activación\n",
        "        \"\"\"\n",
        "        self.weights = weights\n",
        "        self.umbral = umbral\n",
        "\n",
        "    def predict(self, X):\n",
        "        \"\"\"\n",
        "            Calcula la salida de la neurona para cada fila de entradas X.\n",
        "        \"\"\"\n",
        "        # Lista donde se guardarán las salidas\n",
        "        predictions = []\n",
        "        # Recorremos cada fila de entradas\n",
        "        for i in range(X.shape[0]):\n",
        "            # Calculamos la suma ponderada: w1*x1 + w2*x2\n",
        "            weighted_sum = np.dot(self.weights, X[i])\n",
        "            # Mostramos en consola la entrada y la suma ponderada\n",
        "            print(f\"Input: {X[i]}, Weighted Sum: {weighted_sum}\")\n",
        "            # Comparación con el umbral determinar si la neurona se activa o no\n",
        "            if weighted_sum >= self.umbral:\n",
        "                predictions.append(1)\n",
        "            else:\n",
        "                predictions.append(0)\n",
        "        return predictions\n",
        "  # Instanciamos la clase McCullochPitts\n",
        "mcp = McCullochPitts(W, umbral)\n",
        "# Calculamos las predicciones\n",
        "predictions = mcp.predict(X)\n",
        "# Mostramos el resultado final\n",
        "print(\"Predictions:\", predictions)"
      ],
      "metadata": {
        "id": "hW3xiV6O5HsO",
        "outputId": "03c478f0-0b16-44c7-c85c-f0b8b492398d",
        "colab": {
          "base_uri": "https://localhost:8080/"
        }
      },
      "execution_count": 1,
      "outputs": [
        {
          "output_type": "stream",
          "name": "stdout",
          "text": [
            "Input: [0 0], Weighted Sum: 0\n",
            "Input: [0 1], Weighted Sum: 1\n",
            "Input: [1 0], Weighted Sum: 1\n",
            "Input: [1 1], Weighted Sum: 2\n",
            "Predictions: [0, 0, 0, 1]\n"
          ]
        }
      ]
    },
    {
      "cell_type": "code",
      "execution_count": null,
      "metadata": {
        "colab": {
          "base_uri": "https://localhost:8080/"
        },
        "id": "e9iiUlCR8far",
        "outputId": "6ef4713c-41d4-4725-dc07-0808f800e572"
      },
      "outputs": [
        {
          "output_type": "stream",
          "name": "stdout",
          "text": [
            "Entradas:\n",
            " [[0 0]\n",
            " [0 1]\n",
            " [1 0]\n",
            " [1 1]]\n",
            "Salidas OR: [0, 1, 1, 1]\n"
          ]
        }
      ],
      "source": [
        "# McCulloch-Pitts - Operación OR\n",
        "\n",
        "import numpy as np\n",
        "\n",
        "# Entradas (todas las combinaciones posibles de A y B)\n",
        "entradas = np.array([[0,0], [0,1], [1,0], [1,1]])\n",
        "\n",
        "# Pesos (para la operación OR)\n",
        "pesos = np.array([1, 1])\n",
        "\n",
        "# Umbral de activación\n",
        "umbral = 1\n",
        "\n",
        "# Salidas calculadas\n",
        "salidas = []\n",
        "\n",
        "for x in entradas:\n",
        "    # Suma ponderada\n",
        "    suma = np.dot(x, pesos)\n",
        "\n",
        "    # Función de activación (step)\n",
        "    salida = 1 if suma >= umbral else 0\n",
        "    salidas.append(salida)\n",
        "\n",
        "print(\"Entradas:\\n\", entradas)\n",
        "print(\"Salidas OR:\", salidas)"
      ]
    },
    {
      "cell_type": "code",
      "source": [],
      "metadata": {
        "id": "7cw7CBuc8yfd"
      },
      "execution_count": null,
      "outputs": []
    },
    {
      "cell_type": "markdown",
      "source": [
        "Explicación\n",
        "\n",
        "La neurona McCulloch-Pitts simula una decisión simple basada en una suma de entradas ponderadas.\n",
        "\n",
        "Cada entrada (A y B) tiene un peso asociado.\n",
        "\n",
        "La neurona suma esas entradas y las compara con un umbral (threshold).\n",
        "\n",
        "Si la suma es mayor o igual al umbral, la neurona se activa (1).\n",
        "\n",
        "Si no, la neurona permanece inactiva (0).\n",
        "\n",
        "En este caso:\n",
        "\n",
        "Si al menos una entrada es 1, la neurona devuelve 1, que es justo la lógica de la operación OR."
      ],
      "metadata": {
        "id": "Wx2lyGQR8qCw"
      }
    },
    {
      "cell_type": "code",
      "source": [
        "# McCulloch-Pitts - Operación NOT\n",
        "\n",
        "import numpy as np\n",
        "\n",
        "# Entradas posibles (solo una variable)\n",
        "entradas = np.array([[0], [1]])\n",
        "\n",
        "# Peso negativo (para invertir el resultado)\n",
        "pesos = np.array([-1])\n",
        "\n",
        "# Umbral de activación\n",
        "umbral = 0\n",
        "\n",
        "# Salidas calculadas\n",
        "salidas = []\n",
        "\n",
        "for x in entradas:\n",
        "    # Suma ponderada\n",
        "    suma = np.dot(x, pesos)\n",
        "\n",
        "    # Función de activación (step)\n",
        "    salida = 1 if suma >= umbral else 0\n",
        "    salidas.append(salida)\n",
        "\n",
        "print(\"Entradas:\\n\", entradas)\n",
        "print(\"Salidas NOT:\", salidas)"
      ],
      "metadata": {
        "colab": {
          "base_uri": "https://localhost:8080/"
        },
        "id": "jvM-uKcv8tfI",
        "outputId": "d8276fb6-21dc-452b-bc95-a97ad35f91c0"
      },
      "execution_count": null,
      "outputs": [
        {
          "output_type": "stream",
          "name": "stdout",
          "text": [
            "Entradas:\n",
            " [[0]\n",
            " [1]]\n",
            "Salidas NOT: [1, 0]\n"
          ]
        }
      ]
    },
    {
      "cell_type": "markdown",
      "source": [
        "Explicación\n",
        "\n",
        "En esta neurona:\n",
        "\n",
        "Solo hay una entrada.\n",
        "\n",
        "El peso negativo hace que cuando la entrada es 1, la suma sea negativa (menor que el umbral), por lo tanto la salida es 0.\n",
        "\n",
        "Cuando la entrada es 0, la suma es 0 (igual al umbral), y la neurona se activa (1).\n",
        "\n",
        "Así, la neurona reproduce el comportamiento lógico del NOT:\n",
        "\n",
        "Entrada 0, 1\tSalida  1,0\n"
      ],
      "metadata": {
        "id": "8lvw93AY81Ol"
      }
    },
    {
      "cell_type": "code",
      "source": [],
      "metadata": {
        "id": "7BtA11VV88E2"
      },
      "execution_count": null,
      "outputs": []
    }
  ]
}