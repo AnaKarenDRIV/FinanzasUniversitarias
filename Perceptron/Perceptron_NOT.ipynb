# Perceptrón - Operación NOT

import numpy as np

# Entradas y salidas esperadas
entradas = np.array([[0], [1]])
salidas_esperadas = np.array([1, 0])

# Inicializamos pesos y bias
pesos = np.random.rand(1)
bias = np.random.rand(1)
tasa_aprendizaje = 0.1

# Función de activación (step)
def activacion(x):
    return 1 if x >= 0 else 0

# Entrenamiento del perceptrón
for epoca in range(10):
    for i in range(len(entradas)):
        x = entradas[i]
        salida_deseada = salidas_esperadas[i]
        salida_obtenida = activacion(np.dot(x, pesos) + bias)
        
        # Actualización de pesos y bias
        error = salida_deseada - salida_obtenida
        pesos = pesos + tasa_aprendizaje * error * x
        bias = bias + tasa_aprendizaje * error

print("Peso final:", pesos)
print("Bias final:", bias)

# Prueba del perceptrón entrenado
print("\nResultados finales:")
for i in range(len(entradas)):
    x = entradas[i]
    salida = activacion(np.dot(x, pesos) + bias)
    print(f"Entrada: {x}, Salida: {salida}")
